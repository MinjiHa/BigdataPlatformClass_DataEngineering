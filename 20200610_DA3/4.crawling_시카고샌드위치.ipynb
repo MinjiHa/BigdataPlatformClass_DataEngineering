{
 "cells": [
  {
   "cell_type": "code",
   "execution_count": 1,
   "metadata": {},
   "outputs": [
    {
     "output_type": "execute_result",
     "data": {
      "text/plain": "   Rank  ...                                                URL\n0     1  ...  http://www.chicagomag.com/Chicago-Magazine/Nov...\n1     2  ...  http://www.chicagomag.com/Chicago-Magazine/Nov...\n2     3  ...  http://www.chicagomag.com/Chicago-Magazine/Nov...\n3     4  ...  http://www.chicagomag.com/Chicago-Magazine/Nov...\n4     5  ...  http://www.chicagomag.com/Chicago-Magazine/Nov...\n\n[5 rows x 4 columns]",
      "text/html": "<div>\n<style scoped>\n    .dataframe tbody tr th:only-of-type {\n        vertical-align: middle;\n    }\n\n    .dataframe tbody tr th {\n        vertical-align: top;\n    }\n\n    .dataframe thead th {\n        text-align: right;\n    }\n</style>\n<table border=\"1\" class=\"dataframe\">\n  <thead>\n    <tr style=\"text-align: right;\">\n      <th></th>\n      <th>Rank</th>\n      <th>Cafe</th>\n      <th>Menu</th>\n      <th>URL</th>\n    </tr>\n  </thead>\n  <tbody>\n    <tr>\n      <th>0</th>\n      <td>1</td>\n      <td>Old Oak Tap</td>\n      <td>BLT</td>\n      <td>http://www.chicagomag.com/Chicago-Magazine/Nov...</td>\n    </tr>\n    <tr>\n      <th>1</th>\n      <td>2</td>\n      <td>Au Cheval</td>\n      <td>Fried Bologna</td>\n      <td>http://www.chicagomag.com/Chicago-Magazine/Nov...</td>\n    </tr>\n    <tr>\n      <th>2</th>\n      <td>3</td>\n      <td>Xoco</td>\n      <td>Woodland Mushroom</td>\n      <td>http://www.chicagomag.com/Chicago-Magazine/Nov...</td>\n    </tr>\n    <tr>\n      <th>3</th>\n      <td>4</td>\n      <td>Al’s Deli</td>\n      <td>Roast Beef</td>\n      <td>http://www.chicagomag.com/Chicago-Magazine/Nov...</td>\n    </tr>\n    <tr>\n      <th>4</th>\n      <td>5</td>\n      <td>Publican Quality Meats</td>\n      <td>PB&amp;L</td>\n      <td>http://www.chicagomag.com/Chicago-Magazine/Nov...</td>\n    </tr>\n  </tbody>\n</table>\n</div>"
     },
     "metadata": {},
     "execution_count": 1
    }
   ],
   "source": [
    "# p.147 - p.153\n",
    "\n",
    "from bs4 import BeautifulSoup\n",
    "from urllib.request import urlopen\n",
    "import pandas as pd\n",
    "\n",
    "df = pd.read_csv(\"../data/03. best_sandwiches_list_chicago.csv\", index_col = 0)\n",
    "df.head()"
   ]
  },
  {
   "cell_type": "code",
   "execution_count": 2,
   "metadata": {},
   "outputs": [
    {
     "output_type": "execute_result",
     "data": {
      "text/plain": "'http://www.chicagomag.com/Chicago-Magazine/November-2012/Best-Sandwiches-in-Chicago-Old-Oak-Tap-BLT/'"
     },
     "metadata": {},
     "execution_count": 2
    }
   ],
   "source": [
    "df['URL'][0]"
   ]
  },
  {
   "cell_type": "code",
   "execution_count": 4,
   "metadata": {},
   "outputs": [
    {
     "output_type": "stream",
     "name": "stdout",
     "text": "<p class=\"addy\">\n<em>$10. 2109 W. Chicago Ave., 773-772-0406, <a href=\"http://www.theoldoaktap.com/\">theoldoaktap.com</a></em></p>\n"
    }
   ],
   "source": [
    "html = urlopen(df['URL'][0])\n",
    "soup_tmp = BeautifulSoup(html, \"html.parser\")\n",
    "# soup_tmp : url에서 읽어온 html 전체 내용\n",
    "print(soup_tmp.find('p','addy')) # p 태그의 addy 클래스를 가져온다."
   ]
  },
  {
   "cell_type": "code",
   "execution_count": 5,
   "metadata": {},
   "outputs": [
    {
     "output_type": "execute_result",
     "data": {
      "text/plain": "'\\n$10. 2109 W. Chicago Ave., 773-772-0406, theoldoaktap.com'"
     },
     "metadata": {},
     "execution_count": 5
    }
   ],
   "source": [
    "price_tmp = soup_tmp.find('p','addy').get_text()\n",
    "price_tmp"
   ]
  },
  {
   "cell_type": "code",
   "execution_count": 6,
   "metadata": {},
   "outputs": [
    {
     "output_type": "execute_result",
     "data": {
      "text/plain": "['$10.', '2109', 'W.', 'Chicago', 'Ave.,', '773-772-0406,', 'theoldoaktap.com']"
     },
     "metadata": {},
     "execution_count": 6
    }
   ],
   "source": [
    "price_tmp.split()"
   ]
  },
  {
   "cell_type": "code",
   "execution_count": 8,
   "metadata": {},
   "outputs": [
    {
     "output_type": "execute_result",
     "data": {
      "text/plain": "'$10'"
     },
     "metadata": {},
     "execution_count": 8
    }
   ],
   "source": [
    "price_tmp.split()[0][:-1]"
   ]
  },
  {
   "cell_type": "code",
   "execution_count": 17,
   "metadata": {},
   "outputs": [
    {
     "output_type": "execute_result",
     "data": {
      "text/plain": "'2109 W. Chicago Ave.,'"
     },
     "metadata": {},
     "execution_count": 17
    }
   ],
   "source": [
    "' '.join(price_tmp.split()[1:-2])"
   ]
  },
  {
   "cell_type": "code",
   "execution_count": 18,
   "metadata": {},
   "outputs": [
    {
     "output_type": "execute_result",
     "data": {
      "text/plain": "['$10', '$9', '$9.50']"
     },
     "metadata": {},
     "execution_count": 18
    }
   ],
   "source": [
    "price = []\n",
    "address = []\n",
    "\n",
    "for n in df.index[:3]:\n",
    "    html = urlopen(df['URL'][n])\n",
    "    soup_tmp = BeautifulSoup(html,'lxml')\n",
    "\n",
    "    gettings = soup_tmp.find('p','addy').get_text()\n",
    "\n",
    "    price.append(gettings.split()[0][:-1])\n",
    "    address.append(' '.join(gettings.split()[1:-2]))\n",
    "\n",
    "price"
   ]
  },
  {
   "cell_type": "code",
   "execution_count": 19,
   "metadata": {},
   "outputs": [
    {
     "output_type": "execute_result",
     "data": {
      "text/plain": "['2109 W. Chicago Ave.,', '800 W. Randolph St.,', '445 N. Clark St.,']"
     },
     "metadata": {},
     "execution_count": 19
    }
   ],
   "source": [
    "address"
   ]
  },
  {
   "cell_type": "code",
   "execution_count": 22,
   "metadata": {},
   "outputs": [
    {
     "output_type": "display_data",
     "data": {
      "text/plain": "HBox(children=(FloatProgress(value=0.0, max=50.0), HTML(value='')))",
      "application/vnd.jupyter.widget-view+json": {
       "version_major": 2,
       "version_minor": 0,
       "model_id": "407ba52f92164e3eb03b86e4819693b6"
      }
     },
     "metadata": {}
    },
    {
     "output_type": "stream",
     "name": "stdout",
     "text": "\n"
    }
   ],
   "source": [
    "from tqdm import tqdm_notebook\n",
    "\n",
    "price = []\n",
    "address = []\n",
    "\n",
    "for n in tqdm_notebook(df.index):\n",
    "    html = urlopen(df['URL'][n])\n",
    "    soup_tmp = BeautifulSoup(html,'lxml')\n",
    "\n",
    "    gettings = soup_tmp.find('p','addy').get_text()\n",
    "\n",
    "    price.append(gettings.split()[0][:-1])\n",
    "    address.append(' '.join(gettings.split()[1:-2]))\n"
   ]
  },
  {
   "cell_type": "code",
   "execution_count": 24,
   "metadata": {},
   "outputs": [
    {
     "output_type": "execute_result",
     "data": {
      "text/plain": "(50, 50, 50)"
     },
     "metadata": {},
     "execution_count": 24
    }
   ],
   "source": [
    "len(df), len(price), len(address)"
   ]
  },
  {
   "cell_type": "code",
   "execution_count": 25,
   "metadata": {},
   "outputs": [
    {
     "output_type": "execute_result",
     "data": {
      "text/plain": "    Rank  ...                                Address\n0      1  ...                  2109 W. Chicago Ave.,\n1      2  ...                   800 W. Randolph St.,\n2      3  ...                      445 N. Clark St.,\n3      4  ...               914 Noyes St., Evanston,\n4      5  ...                    825 W. Fulton Mkt.,\n5      6  ...                          100 E. Walton\n6      7  ...                   1639 S. Wabash Ave.,\n7      8  ...                    2211 W. North Ave.,\n8      9  ...                    3619 W. North Ave.,\n9     10  ...                   3267 S. Halsted St.,\n10    11  ...                  2537 N. Kedzie Blvd.,\n11    12  ...                               Multiple\n12    13  ...                      3124 N. Broadway,\n13    14  ...                3455 N. Southport Ave.,\n14    15  ...                   2657 N. Kedzie Ave.,\n15    16  ...                    1120 W. Grand Ave.,\n16    17  ...                 1141 S. Jefferson St.,\n17    18  ...                     333 E. Benton Pl.,\n18    19  ...                     1411 N. Wells St.,\n19    20  ...                    1747 N. Damen Ave.,\n20    21  ...                    3209 W. Irving Park\n21    22  ...                               Multiple\n22    23  ...                     5347 N. Clark St.,\n23    24  ...               2954 W. Irving Park Rd.,\n24    25  ...                               Multiple\n25    26  ...  191 Skokie Valley Rd., Highland Park,\n26    27  ...                               Multiple\n27    28  ...                   1818 W. Wilson Ave.,\n28    29  ...                  2517 W. Division St.,\n29    30  ...                          218 W. Kinzie\n30    31  ...                               Multiple\n31    32  ...                     1547 N. Wells St.,\n32    33  ...                 415 N. Milwaukee Ave.,\n33    34  ...                    1840 N. Damen Ave.,\n34    35  ...                  1220 W. Webster Ave.,\n35    36  ...                  5357 N. Ashland Ave.,\n36    37  ...                 1834 W. Montrose Ave.,\n37    38  ...                      615 N. State St.,\n38    39  ...                               Multiple\n39    40  ...             241 N. York Rd., Elmhurst,\n40    41  ...                      1323 E. 57th St.,\n41    42  ...          655 Forest Ave., Lake Forest,\n42    43  ...      Hotel Lincoln, 1816 N. Clark St.,\n43    44  ...           100 S. Marion St., Oak Park,\n44    45  ...                  26 E. Congress Pkwy.,\n45    46  ...                  2018 W. Chicago Ave.,\n46    47  ...                    25 E. Delaware Pl.,\n47    48  ...             416 N. York St., Elmhurst,\n48    49  ...                  65 E. Washington St.,\n49    50  ...                      3351 N. Broadway,\n\n[50 rows x 6 columns]",
      "text/html": "<div>\n<style scoped>\n    .dataframe tbody tr th:only-of-type {\n        vertical-align: middle;\n    }\n\n    .dataframe tbody tr th {\n        vertical-align: top;\n    }\n\n    .dataframe thead th {\n        text-align: right;\n    }\n</style>\n<table border=\"1\" class=\"dataframe\">\n  <thead>\n    <tr style=\"text-align: right;\">\n      <th></th>\n      <th>Rank</th>\n      <th>Cafe</th>\n      <th>Menu</th>\n      <th>URL</th>\n      <th>Price</th>\n      <th>Address</th>\n    </tr>\n  </thead>\n  <tbody>\n    <tr>\n      <th>0</th>\n      <td>1</td>\n      <td>Old Oak Tap</td>\n      <td>BLT</td>\n      <td>http://www.chicagomag.com/Chicago-Magazine/Nov...</td>\n      <td>$10</td>\n      <td>2109 W. Chicago Ave.,</td>\n    </tr>\n    <tr>\n      <th>1</th>\n      <td>2</td>\n      <td>Au Cheval</td>\n      <td>Fried Bologna</td>\n      <td>http://www.chicagomag.com/Chicago-Magazine/Nov...</td>\n      <td>$9</td>\n      <td>800 W. Randolph St.,</td>\n    </tr>\n    <tr>\n      <th>2</th>\n      <td>3</td>\n      <td>Xoco</td>\n      <td>Woodland Mushroom</td>\n      <td>http://www.chicagomag.com/Chicago-Magazine/Nov...</td>\n      <td>$9.50</td>\n      <td>445 N. Clark St.,</td>\n    </tr>\n    <tr>\n      <th>3</th>\n      <td>4</td>\n      <td>Al’s Deli</td>\n      <td>Roast Beef</td>\n      <td>http://www.chicagomag.com/Chicago-Magazine/Nov...</td>\n      <td>$9.40</td>\n      <td>914 Noyes St., Evanston,</td>\n    </tr>\n    <tr>\n      <th>4</th>\n      <td>5</td>\n      <td>Publican Quality Meats</td>\n      <td>PB&amp;L</td>\n      <td>http://www.chicagomag.com/Chicago-Magazine/Nov...</td>\n      <td>$10</td>\n      <td>825 W. Fulton Mkt.,</td>\n    </tr>\n    <tr>\n      <th>5</th>\n      <td>6</td>\n      <td>Hendrickx Belgian Bread Crafter</td>\n      <td>Belgian Chicken Curry Salad</td>\n      <td>http://www.chicagomag.com/Chicago-Magazine/Nov...</td>\n      <td>$7.25</td>\n      <td>100 E. Walton</td>\n    </tr>\n    <tr>\n      <th>6</th>\n      <td>7</td>\n      <td>Acadia</td>\n      <td>Lobster Roll</td>\n      <td>http://www.chicagomag.com/Chicago-Magazine/Nov...</td>\n      <td>$16</td>\n      <td>1639 S. Wabash Ave.,</td>\n    </tr>\n    <tr>\n      <th>7</th>\n      <td>8</td>\n      <td>Birchwood Kitchen</td>\n      <td>Smoked Salmon Salad</td>\n      <td>http://www.chicagomag.com/Chicago-Magazine/Nov...</td>\n      <td>$10</td>\n      <td>2211 W. North Ave.,</td>\n    </tr>\n    <tr>\n      <th>8</th>\n      <td>9</td>\n      <td>Cemitas Puebla</td>\n      <td>Atomica Cemitas</td>\n      <td>http://www.chicagomag.com/Chicago-Magazine/Nov...</td>\n      <td>$9</td>\n      <td>3619 W. North Ave.,</td>\n    </tr>\n    <tr>\n      <th>9</th>\n      <td>10</td>\n      <td>Nana</td>\n      <td>Grilled Laughing Bird Shrimp and Fried Po’ Boy</td>\n      <td>http://www.chicagomag.com/Chicago-Magazine/Nov...</td>\n      <td>$17</td>\n      <td>3267 S. Halsted St.,</td>\n    </tr>\n    <tr>\n      <th>10</th>\n      <td>11</td>\n      <td>Lula Cafe</td>\n      <td>Ham and Raclette Panino</td>\n      <td>http://www.chicagomag.com/Chicago-Magazine/Nov...</td>\n      <td>$11</td>\n      <td>2537 N. Kedzie Blvd.,</td>\n    </tr>\n    <tr>\n      <th>11</th>\n      <td>12</td>\n      <td>Ricobene’s</td>\n      <td>Breaded Steak</td>\n      <td>http://www.chicagomag.com/Chicago-Magazine/Nov...</td>\n      <td>$5.49</td>\n      <td>Multiple</td>\n    </tr>\n    <tr>\n      <th>12</th>\n      <td>13</td>\n      <td>Frog n Snail</td>\n      <td>The Hawkeye</td>\n      <td>http://www.chicagomag.com/Chicago-Magazine/Nov...</td>\n      <td>$14</td>\n      <td>3124 N. Broadway,</td>\n    </tr>\n    <tr>\n      <th>13</th>\n      <td>14</td>\n      <td>Crosby’s Kitchen</td>\n      <td>Chicken Dip</td>\n      <td>http://www.chicagomag.com/Chicago-Magazine/Nov...</td>\n      <td>$10</td>\n      <td>3455 N. Southport Ave.,</td>\n    </tr>\n    <tr>\n      <th>14</th>\n      <td>15</td>\n      <td>Longman &amp; Eagle</td>\n      <td>Wild Boar Sloppy Joe</td>\n      <td>http://www.chicagomag.com/Chicago-Magazine/Nov...</td>\n      <td>$13</td>\n      <td>2657 N. Kedzie Ave.,</td>\n    </tr>\n    <tr>\n      <th>15</th>\n      <td>16</td>\n      <td>Bari</td>\n      <td>Meatball Sub</td>\n      <td>http://www.chicagomag.com/Chicago-Magazine/Nov...</td>\n      <td>$4.50</td>\n      <td>1120 W. Grand Ave.,</td>\n    </tr>\n    <tr>\n      <th>16</th>\n      <td>17</td>\n      <td>Manny’s</td>\n      <td>Corned Beef</td>\n      <td>http://www.chicagomag.com/Chicago-Magazine/Nov...</td>\n      <td>$11.95</td>\n      <td>1141 S. Jefferson St.,</td>\n    </tr>\n    <tr>\n      <th>17</th>\n      <td>18</td>\n      <td>Eggy’s</td>\n      <td>Turkey Club</td>\n      <td>http://www.chicagomag.com/Chicago-Magazine/Nov...</td>\n      <td>$11.50</td>\n      <td>333 E. Benton Pl.,</td>\n    </tr>\n    <tr>\n      <th>18</th>\n      <td>19</td>\n      <td>Old Jerusalem</td>\n      <td>Falafel</td>\n      <td>http://www.chicagomag.com/Chicago-Magazine/Nov...</td>\n      <td>$6.25</td>\n      <td>1411 N. Wells St.,</td>\n    </tr>\n    <tr>\n      <th>19</th>\n      <td>20</td>\n      <td>Mindy’s HotChocolate</td>\n      <td>Crab Cake</td>\n      <td>http://www.chicagomag.com/Chicago-Magazine/Nov...</td>\n      <td>$15</td>\n      <td>1747 N. Damen Ave.,</td>\n    </tr>\n    <tr>\n      <th>20</th>\n      <td>21</td>\n      <td>Olga’s Delicatessen</td>\n      <td>Chicken Schnitzel</td>\n      <td>http://www.chicagomag.com/Chicago-Magazine/Nov...</td>\n      <td>$5</td>\n      <td>3209 W. Irving Park</td>\n    </tr>\n    <tr>\n      <th>21</th>\n      <td>22</td>\n      <td>Dawali Mediterranean Kitchen</td>\n      <td>Shawarma</td>\n      <td>http://www.chicagomag.com/Chicago-Magazine/Nov...</td>\n      <td>$6</td>\n      <td>Multiple</td>\n    </tr>\n    <tr>\n      <th>22</th>\n      <td>23</td>\n      <td>Big Jones</td>\n      <td>Toasted Pimiento Cheese</td>\n      <td>http://www.chicagomag.com/Chicago-Magazine/Nov...</td>\n      <td>$8</td>\n      <td>5347 N. Clark St.,</td>\n    </tr>\n    <tr>\n      <th>23</th>\n      <td>24</td>\n      <td>La Pane</td>\n      <td>Vegetarian Panino</td>\n      <td>http://www.chicagomag.com/Chicago-Magazine/Nov...</td>\n      <td>$5.99</td>\n      <td>2954 W. Irving Park Rd.,</td>\n    </tr>\n    <tr>\n      <th>24</th>\n      <td>25</td>\n      <td>Pastoral</td>\n      <td>Cali Chèvre</td>\n      <td>http://www.chicagomag.com/Chicago-Magazine/Nov...</td>\n      <td>$7.52</td>\n      <td>Multiple</td>\n    </tr>\n    <tr>\n      <th>25</th>\n      <td>26</td>\n      <td>Max’s Deli</td>\n      <td>Pastrami</td>\n      <td>http://www.chicagomag.com/Chicago-Magazine/Nov...</td>\n      <td>$11.95</td>\n      <td>191 Skokie Valley Rd., Highland Park,</td>\n    </tr>\n    <tr>\n      <th>26</th>\n      <td>27</td>\n      <td>Lucky’s Sandwich Co.</td>\n      <td>The Fredo</td>\n      <td>http://www.chicagomag.com/Chicago-Magazine/Nov...</td>\n      <td>$7.50</td>\n      <td>Multiple</td>\n    </tr>\n    <tr>\n      <th>27</th>\n      <td>28</td>\n      <td>City Provisions</td>\n      <td>Smoked Ham</td>\n      <td>http://www.chicagomag.com/Chicago-Magazine/Nov...</td>\n      <td>$12.95</td>\n      <td>1818 W. Wilson Ave.,</td>\n    </tr>\n    <tr>\n      <th>28</th>\n      <td>29</td>\n      <td>Papa’s Cache Sabroso</td>\n      <td>Jibarito</td>\n      <td>http://www.chicagomag.com/Chicago-Magazine/Nov...</td>\n      <td>$7</td>\n      <td>2517 W. Division St.,</td>\n    </tr>\n    <tr>\n      <th>29</th>\n      <td>30</td>\n      <td>Bavette’s Bar &amp; Boeuf</td>\n      <td>Shaved Prime Rib</td>\n      <td>http://www.chicagomag.com/Chicago-Magazine/Nov...</td>\n      <td>$21</td>\n      <td>218 W. Kinzie</td>\n    </tr>\n    <tr>\n      <th>30</th>\n      <td>31</td>\n      <td>Hannah’s Bretzel</td>\n      <td>Serrano Ham and Manchego Cheese</td>\n      <td>http://www.chicagomag.com/Chicago-Magazine/Nov...</td>\n      <td>$9.79</td>\n      <td>Multiple</td>\n    </tr>\n    <tr>\n      <th>31</th>\n      <td>32</td>\n      <td>La Fournette</td>\n      <td>Tuna Salad</td>\n      <td>http://www.chicagomag.com/Chicago-Magazine/Nov...</td>\n      <td>$9.75</td>\n      <td>1547 N. Wells St.,</td>\n    </tr>\n    <tr>\n      <th>32</th>\n      <td>33</td>\n      <td>Paramount Room</td>\n      <td>Paramount Reuben</td>\n      <td>http://www.chicagomag.com/Chicago-Magazine/Nov...</td>\n      <td>$13</td>\n      <td>415 N. Milwaukee Ave.,</td>\n    </tr>\n    <tr>\n      <th>33</th>\n      <td>34</td>\n      <td>Melt Sandwich Shoppe</td>\n      <td>The Istanbul</td>\n      <td>http://www.chicagomag.com/Chicago-Magazine/Nov...</td>\n      <td>$7.95</td>\n      <td>1840 N. Damen Ave.,</td>\n    </tr>\n    <tr>\n      <th>34</th>\n      <td>35</td>\n      <td>Floriole Cafe &amp; Bakery</td>\n      <td>B.A.D.</td>\n      <td>http://www.chicagomag.com/Chicago-Magazine/Nov...</td>\n      <td>$9</td>\n      <td>1220 W. Webster Ave.,</td>\n    </tr>\n    <tr>\n      <th>35</th>\n      <td>36</td>\n      <td>First Slice Pie Café</td>\n      <td>Duck Confit and Mozzarella</td>\n      <td>http://www.chicagomag.com/Chicago-Magazine/Nov...</td>\n      <td>$9</td>\n      <td>5357 N. Ashland Ave.,</td>\n    </tr>\n    <tr>\n      <th>36</th>\n      <td>37</td>\n      <td>Troquet</td>\n      <td>Croque Monsieur</td>\n      <td>http://www.chicagomag.com/Chicago-Magazine/Nov...</td>\n      <td>$8</td>\n      <td>1834 W. Montrose Ave.,</td>\n    </tr>\n    <tr>\n      <th>37</th>\n      <td>38</td>\n      <td>Grahamwich</td>\n      <td>Green Garbanzo</td>\n      <td>http://www.chicagomag.com/Chicago-Magazine/Nov...</td>\n      <td>$8</td>\n      <td>615 N. State St.,</td>\n    </tr>\n    <tr>\n      <th>38</th>\n      <td>39</td>\n      <td>Saigon Sisters</td>\n      <td>The Hen House</td>\n      <td>http://www.chicagomag.com/Chicago-Magazine/Nov...</td>\n      <td>$7</td>\n      <td>Multiple</td>\n    </tr>\n    <tr>\n      <th>39</th>\n      <td>40</td>\n      <td>Rosalia’s Deli</td>\n      <td>Tuscan Chicken</td>\n      <td>http://www.chicagomag.com/Chicago-Magazine/Nov...</td>\n      <td>$6</td>\n      <td>241 N. York Rd., Elmhurst,</td>\n    </tr>\n    <tr>\n      <th>40</th>\n      <td>41</td>\n      <td>Z&amp;H MarketCafe</td>\n      <td>The Marty</td>\n      <td>http://www.chicagomag.com/Chicago-Magazine/Nov...</td>\n      <td>$7.25</td>\n      <td>1323 E. 57th St.,</td>\n    </tr>\n    <tr>\n      <th>41</th>\n      <td>42</td>\n      <td>Market House on the Square</td>\n      <td>Whitefish</td>\n      <td>http://www.chicagomag.com/Chicago-Magazine/Nov...</td>\n      <td>$11</td>\n      <td>655 Forest Ave., Lake Forest,</td>\n    </tr>\n    <tr>\n      <th>42</th>\n      <td>43</td>\n      <td>Elaine’s Coffee Call</td>\n      <td>Oat Bread, Pecan Butter, and Fruit Jam</td>\n      <td>http://www.chicagomag.com/Chicago-Magazine/Nov...</td>\n      <td>$6</td>\n      <td>Hotel Lincoln, 1816 N. Clark St.,</td>\n    </tr>\n    <tr>\n      <th>43</th>\n      <td>44</td>\n      <td>Marion Street Cheese Market</td>\n      <td>Cauliflower Melt</td>\n      <td>http://www.chicagomag.com/Chicago-Magazine/Nov...</td>\n      <td>$9</td>\n      <td>100 S. Marion St., Oak Park,</td>\n    </tr>\n    <tr>\n      <th>44</th>\n      <td>45</td>\n      <td>Cafecito</td>\n      <td>Cubana</td>\n      <td>http://www.chicagomag.com/Chicago-Magazine/Nov...</td>\n      <td>$5.49</td>\n      <td>26 E. Congress Pkwy.,</td>\n    </tr>\n    <tr>\n      <th>45</th>\n      <td>46</td>\n      <td>Chickpea</td>\n      <td>Kufta</td>\n      <td>http://www.chicagomag.com/Chicago-Magazine/Nov...</td>\n      <td>$8</td>\n      <td>2018 W. Chicago Ave.,</td>\n    </tr>\n    <tr>\n      <th>46</th>\n      <td>47</td>\n      <td>The Goddess and Grocer</td>\n      <td>Debbie’s Egg Salad</td>\n      <td>http://www.chicagomag.com/Chicago-Magazine/Nov...</td>\n      <td>$6.50</td>\n      <td>25 E. Delaware Pl.,</td>\n    </tr>\n    <tr>\n      <th>47</th>\n      <td>48</td>\n      <td>Zenwich</td>\n      <td>Beef Curry</td>\n      <td>http://www.chicagomag.com/Chicago-Magazine/Nov...</td>\n      <td>$7.50</td>\n      <td>416 N. York St., Elmhurst,</td>\n    </tr>\n    <tr>\n      <th>48</th>\n      <td>49</td>\n      <td>Toni Patisserie</td>\n      <td>Le Végétarien</td>\n      <td>http://www.chicagomag.com/Chicago-Magazine/Nov...</td>\n      <td>$8.75</td>\n      <td>65 E. Washington St.,</td>\n    </tr>\n    <tr>\n      <th>49</th>\n      <td>50</td>\n      <td>Phoebe’s Bakery</td>\n      <td>The Gatsby</td>\n      <td>http://www.chicagomag.com/Chicago-Magazine/Nov...</td>\n      <td>$6.85</td>\n      <td>3351 N. Broadway,</td>\n    </tr>\n  </tbody>\n</table>\n</div>"
     },
     "metadata": {},
     "execution_count": 25
    }
   ],
   "source": [
    "df['Price'] = price\n",
    "df['Address'] = address\n",
    "df"
   ]
  }
 ],
 "metadata": {
  "language_info": {
   "codemirror_mode": {
    "name": "ipython",
    "version": 3
   },
   "file_extension": ".py",
   "mimetype": "text/x-python",
   "name": "python",
   "nbconvert_exporter": "python",
   "pygments_lexer": "ipython3",
   "version": "3.7.7-final"
  },
  "orig_nbformat": 2,
  "kernelspec": {
   "name": "python37764bit1304f9f95d054c62806119c5c6868c9e",
   "display_name": "Python 3.7.7 64-bit"
  }
 },
 "nbformat": 4,
 "nbformat_minor": 2
}