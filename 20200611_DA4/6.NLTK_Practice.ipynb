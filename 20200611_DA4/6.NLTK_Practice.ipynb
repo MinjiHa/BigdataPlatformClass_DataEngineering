{
 "cells": [
  {
   "cell_type": "code",
   "execution_count": 4,
   "metadata": {},
   "outputs": [
    {
     "output_type": "execute_result",
     "data": {
      "text/plain": "[('한국어', 'NNG'),\n ('분석', 'NNG'),\n ('을', 'JKO'),\n ('시작하', 'VV'),\n ('ㅂ니다', 'EFN'),\n ('재미있', 'VA'),\n ('어요', 'EFN'),\n ('~~', 'SW')]"
     },
     "metadata": {},
     "execution_count": 4
    }
   ],
   "source": [
    "from konlpy.tag import Kkma\n",
    "kkma = Kkma()\n",
    "\n",
    "kkma.sentences('한국어 분석을 시작합니다 재미있어요~~')\n",
    "kkma.nouns('한국어 분석을 시작합니다 재미있어요~~')\n",
    "kkma.pos('한국어 분석을 시작합니다 재미있어요~~')"
   ]
  },
  {
   "cell_type": "code",
   "execution_count": 7,
   "metadata": {},
   "outputs": [
    {
     "output_type": "execute_result",
     "data": {
      "text/plain": "[('한국어', 'N'),\n ('분석', 'N'),\n ('을', 'J'),\n ('시작', 'N'),\n ('하', 'X'),\n ('ㅂ니다', 'E'),\n ('재미있', 'P'),\n ('어요', 'E'),\n ('~~', 'S')]"
     },
     "metadata": {},
     "execution_count": 7
    }
   ],
   "source": [
    "from konlpy.tag import Hannanum\n",
    "\n",
    "han = Hannanum()\n",
    "han.nouns('한국어 분석을 시작합니다 재미있어요~~')\n",
    "han.morphs('한국어 분석을 시작합니다 재미있어요~~')\n",
    "han.pos('한국어 분석을 시작합니다 재미있어요~~')"
   ]
  },
  {
   "cell_type": "code",
   "execution_count": 9,
   "metadata": {},
   "outputs": [
    {
     "output_type": "execute_result",
     "data": {
      "text/plain": "[('한국어', 'Noun'),\n ('분석', 'Noun'),\n ('을', 'Josa'),\n ('시작', 'Noun'),\n ('합니다', 'Verb'),\n ('재미있어요', 'Adjective'),\n ('~~', 'Punctuation')]"
     },
     "metadata": {},
     "execution_count": 9
    }
   ],
   "source": [
    "from konlpy.tag import Twitter\n",
    "t = Twitter()\n",
    "t.nouns('한국어 분석을 시작합니다 재미있어요~~')\n",
    "t.pos('한국어 분석을 시작합니다 재미있어요~~')"
   ]
  }
 ],
 "metadata": {
  "language_info": {
   "codemirror_mode": {
    "name": "ipython",
    "version": 3
   },
   "file_extension": ".py",
   "mimetype": "text/x-python",
   "name": "python",
   "nbconvert_exporter": "python",
   "pygments_lexer": "ipython3",
   "version": "3.7.7-final"
  },
  "orig_nbformat": 2,
  "kernelspec": {
   "name": "python37764bit1304f9f95d054c62806119c5c6868c9e",
   "display_name": "Python 3.7.7 64-bit"
  }
 },
 "nbformat": 4,
 "nbformat_minor": 2
}