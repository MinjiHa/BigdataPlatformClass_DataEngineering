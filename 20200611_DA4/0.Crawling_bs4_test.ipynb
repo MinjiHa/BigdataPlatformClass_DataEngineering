{
 "cells": [
  {
   "cell_type": "code",
   "execution_count": 1,
   "metadata": {},
   "outputs": [
    {
     "output_type": "stream",
     "name": "stdout",
     "text": "<!DOCTYPE html>\n<html>\n <head>\n  <title>\n   Very Simple HTML Code by PinkWink\n  </title>\n </head>\n <body>\n  <div>\n   <p class=\"inner-text first-item\" id=\"first\">\n    Happy PinkWink.\n    <a href=\"http://www.pinkwink.kr\" id=\"pw-link\">\n     PinkWink\n    </a>\n   </p>\n   <p class=\"inner-text second-item\">\n    Happy Data Science.\n    <a href=\"https://www.python.org\" id=\"py-link\">\n     Python\n    </a>\n   </p>\n  </div>\n  <p class=\"outer-text first-item\" id=\"second\">\n   <b>\n    Data Science is funny.\n   </b>\n  </p>\n  <p class=\"outer-text\">\n   <b>\n    All I need is Love.\n   </b>\n  </p>\n </body>\n</html>\n"
    }
   ],
   "source": [
    "from bs4 import BeautifulSoup\n",
    "\n",
    "page = open(\"../data/03. test_first.html\",'r').read()\n",
    "soup = BeautifulSoup(page, 'html.parser')\n",
    "print(soup.prettify())"
   ]
  },
  {
   "cell_type": "code",
   "execution_count": 2,
   "metadata": {},
   "outputs": [
    {
     "output_type": "execute_result",
     "data": {
      "text/plain": "['html',\n '\\n',\n <html>\n <head>\n <title>Very Simple HTML Code by PinkWink</title>\n </head>\n <body>\n <div>\n <p class=\"inner-text first-item\" id=\"first\">\n                 Happy PinkWink.\n                 <a href=\"http://www.pinkwink.kr\" id=\"pw-link\">PinkWink</a>\n </p>\n <p class=\"inner-text second-item\">\n                 Happy Data Science.\n                 <a href=\"https://www.python.org\" id=\"py-link\">Python</a>\n </p>\n </div>\n <p class=\"outer-text first-item\" id=\"second\">\n <b>\n                 Data Science is funny.\n             </b>\n </p>\n <p class=\"outer-text\">\n <b>\n                 All I need is Love.\n             </b>\n </p>\n </body>\n </html>]"
     },
     "metadata": {},
     "execution_count": 2
    }
   ],
   "source": [
    "list(soup.children)"
   ]
  },
  {
   "cell_type": "code",
   "execution_count": 3,
   "metadata": {},
   "outputs": [
    {
     "output_type": "execute_result",
     "data": {
      "text/plain": "<html>\n<head>\n<title>Very Simple HTML Code by PinkWink</title>\n</head>\n<body>\n<div>\n<p class=\"inner-text first-item\" id=\"first\">\n                Happy PinkWink.\n                <a href=\"http://www.pinkwink.kr\" id=\"pw-link\">PinkWink</a>\n</p>\n<p class=\"inner-text second-item\">\n                Happy Data Science.\n                <a href=\"https://www.python.org\" id=\"py-link\">Python</a>\n</p>\n</div>\n<p class=\"outer-text first-item\" id=\"second\">\n<b>\n                Data Science is funny.\n            </b>\n</p>\n<p class=\"outer-text\">\n<b>\n                All I need is Love.\n            </b>\n</p>\n</body>\n</html>"
     },
     "metadata": {},
     "execution_count": 3
    }
   ],
   "source": [
    "html = list(soup.children)[2]\n",
    "html"
   ]
  },
  {
   "cell_type": "code",
   "execution_count": 5,
   "metadata": {},
   "outputs": [
    {
     "output_type": "execute_result",
     "data": {
      "text/plain": "<body>\n<div>\n<p class=\"inner-text first-item\" id=\"first\">\n                Happy PinkWink.\n                <a href=\"http://www.pinkwink.kr\" id=\"pw-link\">PinkWink</a>\n</p>\n<p class=\"inner-text second-item\">\n                Happy Data Science.\n                <a href=\"https://www.python.org\" id=\"py-link\">Python</a>\n</p>\n</div>\n<p class=\"outer-text first-item\" id=\"second\">\n<b>\n                Data Science is funny.\n            </b>\n</p>\n<p class=\"outer-text\">\n<b>\n                All I need is Love.\n            </b>\n</p>\n</body>"
     },
     "metadata": {},
     "execution_count": 5
    }
   ],
   "source": [
    "body = list(html.children)[3]\n",
    "body"
   ]
  },
  {
   "cell_type": "code",
   "execution_count": 6,
   "metadata": {},
   "outputs": [
    {
     "output_type": "execute_result",
     "data": {
      "text/plain": "<body>\n<div>\n<p class=\"inner-text first-item\" id=\"first\">\n                Happy PinkWink.\n                <a href=\"http://www.pinkwink.kr\" id=\"pw-link\">PinkWink</a>\n</p>\n<p class=\"inner-text second-item\">\n                Happy Data Science.\n                <a href=\"https://www.python.org\" id=\"py-link\">Python</a>\n</p>\n</div>\n<p class=\"outer-text first-item\" id=\"second\">\n<b>\n                Data Science is funny.\n            </b>\n</p>\n<p class=\"outer-text\">\n<b>\n                All I need is Love.\n            </b>\n</p>\n</body>"
     },
     "metadata": {},
     "execution_count": 6
    }
   ],
   "source": [
    "soup.body"
   ]
  },
  {
   "cell_type": "code",
   "execution_count": 7,
   "metadata": {},
   "outputs": [
    {
     "output_type": "execute_result",
     "data": {
      "text/plain": "[<p class=\"inner-text first-item\" id=\"first\">\n                 Happy PinkWink.\n                 <a href=\"http://www.pinkwink.kr\" id=\"pw-link\">PinkWink</a>\n </p>,\n <p class=\"inner-text second-item\">\n                 Happy Data Science.\n                 <a href=\"https://www.python.org\" id=\"py-link\">Python</a>\n </p>,\n <p class=\"outer-text first-item\" id=\"second\">\n <b>\n                 Data Science is funny.\n             </b>\n </p>,\n <p class=\"outer-text\">\n <b>\n                 All I need is Love.\n             </b>\n </p>]"
     },
     "metadata": {},
     "execution_count": 7
    }
   ],
   "source": [
    "soup.find_all('p')"
   ]
  }
 ],
 "metadata": {
  "language_info": {
   "codemirror_mode": {
    "name": "ipython",
    "version": 3
   },
   "file_extension": ".py",
   "mimetype": "text/x-python",
   "name": "python",
   "nbconvert_exporter": "python",
   "pygments_lexer": "ipython3",
   "version": "3.7.7-final"
  },
  "orig_nbformat": 2,
  "kernelspec": {
   "name": "python37764bit1304f9f95d054c62806119c5c6868c9e",
   "display_name": "Python 3.7.7 64-bit"
  }
 },
 "nbformat": 4,
 "nbformat_minor": 2
}