{
 "cells": [
  {
   "cell_type": "code",
   "execution_count": 6,
   "metadata": {},
   "outputs": [
    {
     "output_type": "execute_result",
     "data": {
      "text/plain": "       sex  age  grade absence bloodtype  height  weight\n0     male   20      2       N         O   157.1    52.3\n1   female   24      2       Y         O   160.8    53.6\n2     male   28      2       N         O   160.5    53.4\n3     male   22      2       N        AB   159.0    52.2\n4   female   23      2       N         O   160.9    53.1\n..     ...  ...    ...     ...       ...     ...     ...\n95  female   27      4       Y         A   154.9    63.2\n96  female   27      1       N         O   156.7    73.6\n97    male   23      3       Y         B   173.4    62.5\n98    male   25      3       Y         O   167.7    74.6\n99  female   28      3       N         A   179.3    71.9\n\n[100 rows x 7 columns]",
      "text/html": "<div>\n<style scoped>\n    .dataframe tbody tr th:only-of-type {\n        vertical-align: middle;\n    }\n\n    .dataframe tbody tr th {\n        vertical-align: top;\n    }\n\n    .dataframe thead th {\n        text-align: right;\n    }\n</style>\n<table border=\"1\" class=\"dataframe\">\n  <thead>\n    <tr style=\"text-align: right;\">\n      <th></th>\n      <th>sex</th>\n      <th>age</th>\n      <th>grade</th>\n      <th>absence</th>\n      <th>bloodtype</th>\n      <th>height</th>\n      <th>weight</th>\n    </tr>\n  </thead>\n  <tbody>\n    <tr>\n      <th>0</th>\n      <td>male</td>\n      <td>20</td>\n      <td>2</td>\n      <td>N</td>\n      <td>O</td>\n      <td>157.1</td>\n      <td>52.3</td>\n    </tr>\n    <tr>\n      <th>1</th>\n      <td>female</td>\n      <td>24</td>\n      <td>2</td>\n      <td>Y</td>\n      <td>O</td>\n      <td>160.8</td>\n      <td>53.6</td>\n    </tr>\n    <tr>\n      <th>2</th>\n      <td>male</td>\n      <td>28</td>\n      <td>2</td>\n      <td>N</td>\n      <td>O</td>\n      <td>160.5</td>\n      <td>53.4</td>\n    </tr>\n    <tr>\n      <th>3</th>\n      <td>male</td>\n      <td>22</td>\n      <td>2</td>\n      <td>N</td>\n      <td>AB</td>\n      <td>159.0</td>\n      <td>52.2</td>\n    </tr>\n    <tr>\n      <th>4</th>\n      <td>female</td>\n      <td>23</td>\n      <td>2</td>\n      <td>N</td>\n      <td>O</td>\n      <td>160.9</td>\n      <td>53.1</td>\n    </tr>\n    <tr>\n      <th>...</th>\n      <td>...</td>\n      <td>...</td>\n      <td>...</td>\n      <td>...</td>\n      <td>...</td>\n      <td>...</td>\n      <td>...</td>\n    </tr>\n    <tr>\n      <th>95</th>\n      <td>female</td>\n      <td>27</td>\n      <td>4</td>\n      <td>Y</td>\n      <td>A</td>\n      <td>154.9</td>\n      <td>63.2</td>\n    </tr>\n    <tr>\n      <th>96</th>\n      <td>female</td>\n      <td>27</td>\n      <td>1</td>\n      <td>N</td>\n      <td>O</td>\n      <td>156.7</td>\n      <td>73.6</td>\n    </tr>\n    <tr>\n      <th>97</th>\n      <td>male</td>\n      <td>23</td>\n      <td>3</td>\n      <td>Y</td>\n      <td>B</td>\n      <td>173.4</td>\n      <td>62.5</td>\n    </tr>\n    <tr>\n      <th>98</th>\n      <td>male</td>\n      <td>25</td>\n      <td>3</td>\n      <td>Y</td>\n      <td>O</td>\n      <td>167.7</td>\n      <td>74.6</td>\n    </tr>\n    <tr>\n      <th>99</th>\n      <td>female</td>\n      <td>28</td>\n      <td>3</td>\n      <td>N</td>\n      <td>A</td>\n      <td>179.3</td>\n      <td>71.9</td>\n    </tr>\n  </tbody>\n</table>\n<p>100 rows × 7 columns</p>\n</div>"
     },
     "metadata": {},
     "execution_count": 6
    }
   ],
   "source": [
    "import numpy as np\n",
    "import pandas as pd\n",
    "\n",
    "data = pd.read_csv(\"C:\\\\Python37_Project\\\\20200603\\\\student.csv\")\n",
    "\n",
    "data"
   ]
  },
  {
   "cell_type": "code",
   "execution_count": 13,
   "metadata": {},
   "outputs": [
    {
     "output_type": "execute_result",
     "data": {
      "text/plain": "       sex  age  grade absence bloodtype  height  weight        bmi\n0     male   20      2       N         O   157.1    52.3  21.190896\n1   female   24      2       Y         O   160.8    53.6  20.729685\n2     male   28      2       N         O   160.5    53.4  20.729612\n3     male   22      2       N        AB   159.0    52.2  20.647917\n4   female   23      2       N         O   160.9    53.1  20.510792\n..     ...  ...    ...     ...       ...     ...     ...        ...\n95  female   27      4       Y         A   154.9    63.2  26.339907\n96  female   27      1       N         O   156.7    73.6  29.973663\n97    male   23      3       Y         B   173.4    62.5  20.786522\n98    male   25      3       Y         O   167.7    74.6  26.526057\n99  female   28      3       N         A   179.3    71.9  22.364970\n\n[100 rows x 8 columns]",
      "text/html": "<div>\n<style scoped>\n    .dataframe tbody tr th:only-of-type {\n        vertical-align: middle;\n    }\n\n    .dataframe tbody tr th {\n        vertical-align: top;\n    }\n\n    .dataframe thead th {\n        text-align: right;\n    }\n</style>\n<table border=\"1\" class=\"dataframe\">\n  <thead>\n    <tr style=\"text-align: right;\">\n      <th></th>\n      <th>sex</th>\n      <th>age</th>\n      <th>grade</th>\n      <th>absence</th>\n      <th>bloodtype</th>\n      <th>height</th>\n      <th>weight</th>\n      <th>bmi</th>\n    </tr>\n  </thead>\n  <tbody>\n    <tr>\n      <th>0</th>\n      <td>male</td>\n      <td>20</td>\n      <td>2</td>\n      <td>N</td>\n      <td>O</td>\n      <td>157.1</td>\n      <td>52.3</td>\n      <td>21.190896</td>\n    </tr>\n    <tr>\n      <th>1</th>\n      <td>female</td>\n      <td>24</td>\n      <td>2</td>\n      <td>Y</td>\n      <td>O</td>\n      <td>160.8</td>\n      <td>53.6</td>\n      <td>20.729685</td>\n    </tr>\n    <tr>\n      <th>2</th>\n      <td>male</td>\n      <td>28</td>\n      <td>2</td>\n      <td>N</td>\n      <td>O</td>\n      <td>160.5</td>\n      <td>53.4</td>\n      <td>20.729612</td>\n    </tr>\n    <tr>\n      <th>3</th>\n      <td>male</td>\n      <td>22</td>\n      <td>2</td>\n      <td>N</td>\n      <td>AB</td>\n      <td>159.0</td>\n      <td>52.2</td>\n      <td>20.647917</td>\n    </tr>\n    <tr>\n      <th>4</th>\n      <td>female</td>\n      <td>23</td>\n      <td>2</td>\n      <td>N</td>\n      <td>O</td>\n      <td>160.9</td>\n      <td>53.1</td>\n      <td>20.510792</td>\n    </tr>\n    <tr>\n      <th>...</th>\n      <td>...</td>\n      <td>...</td>\n      <td>...</td>\n      <td>...</td>\n      <td>...</td>\n      <td>...</td>\n      <td>...</td>\n      <td>...</td>\n    </tr>\n    <tr>\n      <th>95</th>\n      <td>female</td>\n      <td>27</td>\n      <td>4</td>\n      <td>Y</td>\n      <td>A</td>\n      <td>154.9</td>\n      <td>63.2</td>\n      <td>26.339907</td>\n    </tr>\n    <tr>\n      <th>96</th>\n      <td>female</td>\n      <td>27</td>\n      <td>1</td>\n      <td>N</td>\n      <td>O</td>\n      <td>156.7</td>\n      <td>73.6</td>\n      <td>29.973663</td>\n    </tr>\n    <tr>\n      <th>97</th>\n      <td>male</td>\n      <td>23</td>\n      <td>3</td>\n      <td>Y</td>\n      <td>B</td>\n      <td>173.4</td>\n      <td>62.5</td>\n      <td>20.786522</td>\n    </tr>\n    <tr>\n      <th>98</th>\n      <td>male</td>\n      <td>25</td>\n      <td>3</td>\n      <td>Y</td>\n      <td>O</td>\n      <td>167.7</td>\n      <td>74.6</td>\n      <td>26.526057</td>\n    </tr>\n    <tr>\n      <th>99</th>\n      <td>female</td>\n      <td>28</td>\n      <td>3</td>\n      <td>N</td>\n      <td>A</td>\n      <td>179.3</td>\n      <td>71.9</td>\n      <td>22.364970</td>\n    </tr>\n  </tbody>\n</table>\n<p>100 rows × 8 columns</p>\n</div>"
     },
     "metadata": {},
     "execution_count": 13
    }
   ],
   "source": [
    "\n",
    "filter = data['sex'] == 'male'\n",
    "df_male = data[filter]\n",
    "filter2 = data['sex'] == 'female'\n",
    "df_female = data[filter2]\n",
    "df_male\n",
    "df_female\n",
    "data['bmi'] = data['weight'] / ((data['height']/100)*(data['height']/100))\n",
    "\n",
    "data\n"
   ]
  }
 ],
 "metadata": {
  "language_info": {
   "codemirror_mode": {
    "name": "ipython",
    "version": 3
   },
   "file_extension": ".py",
   "mimetype": "text/x-python",
   "name": "python",
   "nbconvert_exporter": "python",
   "pygments_lexer": "ipython3",
   "version": "3.7.7-final"
  },
  "orig_nbformat": 2,
  "kernelspec": {
   "name": "python37764bit1304f9f95d054c62806119c5c6868c9e",
   "display_name": "Python 3.7.7 64-bit"
  }
 },
 "nbformat": 4,
 "nbformat_minor": 2
}