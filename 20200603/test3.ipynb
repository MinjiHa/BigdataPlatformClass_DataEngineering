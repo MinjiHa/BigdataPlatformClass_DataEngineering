{
 "cells": [
  {
   "cell_type": "code",
   "execution_count": 7,
   "metadata": {},
   "outputs": [
    {
     "output_type": "execute_result",
     "data": {
      "text/plain": "       col1      col2      col3\n0  0.671734  0.551154  0.122033\n1  0.113332  0.485831  0.278913\n2  0.054189  0.194543  0.809197\n3  0.598597  0.286809  0.818068\n4  0.093944  0.742577  0.938312\n5  0.656679  0.005737  0.494358",
      "text/html": "<div>\n<style scoped>\n    .dataframe tbody tr th:only-of-type {\n        vertical-align: middle;\n    }\n\n    .dataframe tbody tr th {\n        vertical-align: top;\n    }\n\n    .dataframe thead th {\n        text-align: right;\n    }\n</style>\n<table border=\"1\" class=\"dataframe\">\n  <thead>\n    <tr style=\"text-align: right;\">\n      <th></th>\n      <th>col1</th>\n      <th>col2</th>\n      <th>col3</th>\n    </tr>\n  </thead>\n  <tbody>\n    <tr>\n      <th>0</th>\n      <td>0.671734</td>\n      <td>0.551154</td>\n      <td>0.122033</td>\n    </tr>\n    <tr>\n      <th>1</th>\n      <td>0.113332</td>\n      <td>0.485831</td>\n      <td>0.278913</td>\n    </tr>\n    <tr>\n      <th>2</th>\n      <td>0.054189</td>\n      <td>0.194543</td>\n      <td>0.809197</td>\n    </tr>\n    <tr>\n      <th>3</th>\n      <td>0.598597</td>\n      <td>0.286809</td>\n      <td>0.818068</td>\n    </tr>\n    <tr>\n      <th>4</th>\n      <td>0.093944</td>\n      <td>0.742577</td>\n      <td>0.938312</td>\n    </tr>\n    <tr>\n      <th>5</th>\n      <td>0.656679</td>\n      <td>0.005737</td>\n      <td>0.494358</td>\n    </tr>\n  </tbody>\n</table>\n</div>"
     },
     "metadata": {},
     "execution_count": 7
    }
   ],
   "source": [
    "import numpy as np\n",
    "import pandas as pd\n",
    "\n",
    "# Table Wise Function 모든 테이블에 적용되기 때문에 이름이 이렇다\n",
    "def adder(a,b):\n",
    "    return a + b\n",
    "\n",
    "ds = pd.Series([11,21,31,41,51])\n",
    "ds\n",
    "ds.pipe(adder,4) #함수적용\n",
    "\n",
    "df = pd.DataFrame(np.random.rand(6,3), columns = ['col1','col2','col3'])\n",
    "df"
   ]
  },
  {
   "cell_type": "code",
   "execution_count": 8,
   "metadata": {},
   "outputs": [
    {
     "output_type": "execute_result",
     "data": {
      "text/plain": "       col1      col2      col3\n0  5.671734  5.551154  5.122033\n1  5.113332  5.485831  5.278913\n2  5.054189  5.194543  5.809197\n3  5.598597  5.286809  5.818068\n4  5.093944  5.742577  5.938312\n5  5.656679  5.005737  5.494358",
      "text/html": "<div>\n<style scoped>\n    .dataframe tbody tr th:only-of-type {\n        vertical-align: middle;\n    }\n\n    .dataframe tbody tr th {\n        vertical-align: top;\n    }\n\n    .dataframe thead th {\n        text-align: right;\n    }\n</style>\n<table border=\"1\" class=\"dataframe\">\n  <thead>\n    <tr style=\"text-align: right;\">\n      <th></th>\n      <th>col1</th>\n      <th>col2</th>\n      <th>col3</th>\n    </tr>\n  </thead>\n  <tbody>\n    <tr>\n      <th>0</th>\n      <td>5.671734</td>\n      <td>5.551154</td>\n      <td>5.122033</td>\n    </tr>\n    <tr>\n      <th>1</th>\n      <td>5.113332</td>\n      <td>5.485831</td>\n      <td>5.278913</td>\n    </tr>\n    <tr>\n      <th>2</th>\n      <td>5.054189</td>\n      <td>5.194543</td>\n      <td>5.809197</td>\n    </tr>\n    <tr>\n      <th>3</th>\n      <td>5.598597</td>\n      <td>5.286809</td>\n      <td>5.818068</td>\n    </tr>\n    <tr>\n      <th>4</th>\n      <td>5.093944</td>\n      <td>5.742577</td>\n      <td>5.938312</td>\n    </tr>\n    <tr>\n      <th>5</th>\n      <td>5.656679</td>\n      <td>5.005737</td>\n      <td>5.494358</td>\n    </tr>\n  </tbody>\n</table>\n</div>"
     },
     "metadata": {},
     "execution_count": 8
    }
   ],
   "source": [
    "df.pipe(adder,5)"
   ]
  },
  {
   "cell_type": "code",
   "execution_count": 10,
   "metadata": {},
   "outputs": [
    {
     "output_type": "execute_result",
     "data": {
      "text/plain": "   0  1\n0  1  2\n1  3  4",
      "text/html": "<div>\n<style scoped>\n    .dataframe tbody tr th:only-of-type {\n        vertical-align: middle;\n    }\n\n    .dataframe tbody tr th {\n        vertical-align: top;\n    }\n\n    .dataframe thead th {\n        text-align: right;\n    }\n</style>\n<table border=\"1\" class=\"dataframe\">\n  <thead>\n    <tr style=\"text-align: right;\">\n      <th></th>\n      <th>0</th>\n      <th>1</th>\n    </tr>\n  </thead>\n  <tbody>\n    <tr>\n      <th>0</th>\n      <td>1</td>\n      <td>2</td>\n    </tr>\n    <tr>\n      <th>1</th>\n      <td>3</td>\n      <td>4</td>\n    </tr>\n  </tbody>\n</table>\n</div>"
     },
     "metadata": {},
     "execution_count": 10
    }
   ],
   "source": [
    "# Row or Column Wise Function\n",
    "def myfunc(x):\n",
    "    return x * x\n",
    "\n",
    "ds.apply(myfunc) #행에 대해서 적용된다.\n",
    "ds\n",
    "df2 = pd.DataFrame([[1,2],[3,4]])\n",
    "df2"
   ]
  },
  {
   "cell_type": "code",
   "execution_count": 11,
   "metadata": {},
   "outputs": [
    {
     "output_type": "execute_result",
     "data": {
      "text/plain": "   0   1\n0  1   4\n1  9  16",
      "text/html": "<div>\n<style scoped>\n    .dataframe tbody tr th:only-of-type {\n        vertical-align: middle;\n    }\n\n    .dataframe tbody tr th {\n        vertical-align: top;\n    }\n\n    .dataframe thead th {\n        text-align: right;\n    }\n</style>\n<table border=\"1\" class=\"dataframe\">\n  <thead>\n    <tr style=\"text-align: right;\">\n      <th></th>\n      <th>0</th>\n      <th>1</th>\n    </tr>\n  </thead>\n  <tbody>\n    <tr>\n      <th>0</th>\n      <td>1</td>\n      <td>4</td>\n    </tr>\n    <tr>\n      <th>1</th>\n      <td>9</td>\n      <td>16</td>\n    </tr>\n  </tbody>\n</table>\n</div>"
     },
     "metadata": {},
     "execution_count": 11
    }
   ],
   "source": [
    "df2.apply(myfunc)"
   ]
  },
  {
   "cell_type": "code",
   "execution_count": 12,
   "metadata": {},
   "outputs": [
    {
     "output_type": "execute_result",
     "data": {
      "text/plain": "   0  1\n0  2  4\n1  6  8",
      "text/html": "<div>\n<style scoped>\n    .dataframe tbody tr th:only-of-type {\n        vertical-align: middle;\n    }\n\n    .dataframe tbody tr th {\n        vertical-align: top;\n    }\n\n    .dataframe thead th {\n        text-align: right;\n    }\n</style>\n<table border=\"1\" class=\"dataframe\">\n  <thead>\n    <tr style=\"text-align: right;\">\n      <th></th>\n      <th>0</th>\n      <th>1</th>\n    </tr>\n  </thead>\n  <tbody>\n    <tr>\n      <th>0</th>\n      <td>2</td>\n      <td>4</td>\n    </tr>\n    <tr>\n      <th>1</th>\n      <td>6</td>\n      <td>8</td>\n    </tr>\n  </tbody>\n</table>\n</div>"
     },
     "metadata": {},
     "execution_count": 12
    }
   ],
   "source": [
    "f = lambda x: x*2\n",
    "df2.apply(f)"
   ]
  }
 ],
 "metadata": {
  "language_info": {
   "codemirror_mode": {
    "name": "ipython",
    "version": 3
   },
   "file_extension": ".py",
   "mimetype": "text/x-python",
   "name": "python",
   "nbconvert_exporter": "python",
   "pygments_lexer": "ipython3",
   "version": "3.7.7-final"
  },
  "orig_nbformat": 2,
  "kernelspec": {
   "name": "python37764bit1304f9f95d054c62806119c5c6868c9e",
   "display_name": "Python 3.7.7 64-bit"
  }
 },
 "nbformat": 4,
 "nbformat_minor": 2
}