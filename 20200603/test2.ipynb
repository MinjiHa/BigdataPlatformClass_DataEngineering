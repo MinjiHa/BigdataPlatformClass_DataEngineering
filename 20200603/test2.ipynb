{
 "cells": [
  {
   "cell_type": "code",
   "execution_count": 16,
   "metadata": {},
   "outputs": [
    {
     "output_type": "execute_result",
     "data": {
      "text/plain": "   col1  col2\n0     1     4\n3     1     2\n1     2     3\n2     3     1",
      "text/html": "<div>\n<style scoped>\n    .dataframe tbody tr th:only-of-type {\n        vertical-align: middle;\n    }\n\n    .dataframe tbody tr th {\n        vertical-align: top;\n    }\n\n    .dataframe thead th {\n        text-align: right;\n    }\n</style>\n<table border=\"1\" class=\"dataframe\">\n  <thead>\n    <tr style=\"text-align: right;\">\n      <th></th>\n      <th>col1</th>\n      <th>col2</th>\n    </tr>\n  </thead>\n  <tbody>\n    <tr>\n      <th>0</th>\n      <td>1</td>\n      <td>4</td>\n    </tr>\n    <tr>\n      <th>3</th>\n      <td>1</td>\n      <td>2</td>\n    </tr>\n    <tr>\n      <th>1</th>\n      <td>2</td>\n      <td>3</td>\n    </tr>\n    <tr>\n      <th>2</th>\n      <td>3</td>\n      <td>1</td>\n    </tr>\n  </tbody>\n</table>\n</div>"
     },
     "metadata": {},
     "execution_count": 16
    }
   ],
   "source": [
    "import numpy as np\n",
    "import pandas as pd\n",
    "\n",
    "df = pd.DataFrame(np.random.randn(10,2), index = [7,2,6,4,5,1,9,8,3,0],\\\n",
    "                    columns=['col1','col2'])\n",
    "df1 = df.sort_index()\n",
    "df1\n",
    "df2 = df.sort_index(ascending=False, axis=1)\n",
    "df2\n",
    "df2 = df.sort_index(ascending=False, axis=0)\n",
    "df2\n",
    "\n",
    "df3 = pd.DataFrame({'col1':[1,2,3,1],'col2':[4,3,1,2]})\n",
    "df4 = df3.sort_values(by='col1')\n",
    "df4\n",
    "\n",
    "df5 = df3.sort_values(by=['col1','col2'], ascending=[False,True])\n",
    "df5\n",
    "\n",
    "df6 = df3.sort_values(by='col1',kind='mergesort')\n",
    "df6\n"
   ]
  }
 ],
 "metadata": {
  "language_info": {
   "codemirror_mode": {
    "name": "ipython",
    "version": 3
   },
   "file_extension": ".py",
   "mimetype": "text/x-python",
   "name": "python",
   "nbconvert_exporter": "python",
   "pygments_lexer": "ipython3",
   "version": "3.7.7-final"
  },
  "orig_nbformat": 2,
  "kernelspec": {
   "name": "python37764bit1304f9f95d054c62806119c5c6868c9e",
   "display_name": "Python 3.7.7 64-bit"
  }
 },
 "nbformat": 4,
 "nbformat_minor": 2
}