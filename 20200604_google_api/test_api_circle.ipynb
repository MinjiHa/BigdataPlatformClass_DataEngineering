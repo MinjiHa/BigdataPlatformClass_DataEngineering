{
 "cells": [
  {
   "cell_type": "code",
   "execution_count": null,
   "metadata": {},
   "outputs": [],
   "source": [
    "import numpy as np\n",
    "import pandas as pd\n",
    "import requests\n",
    "import json\n",
    "import folium\n",
    "url_stores = \"https://8oi9s0nnth.apigw.ntruss.com/corona19-masks/v1/stores/json\"\n",
    "url_sales = \"https://8oi9s0nnth.apigw.ntruss.com/corona19-masks/v1/sales/json?page=1\"\n",
    "json_stores = requests.get(url_stores).json()\n",
    "json_sales = requests.get(url_sales).json()\n",
    "json_stores\n",
    "map= []\n",
    "size_stores = len(json_stores['storeInfos'])\n",
    "for inx in range(size_stores):\n",
    "    map.append([json_stores['storeInfos'][inx]['code'], json_stores['storeInfos'][inx]['lat'],json_stores['storeInfos'][inx]['lng']])\n",
    "df = pd.DataFrame(map, columns=(\"code\",\"lat\",\"lng\"))\n",
    "lat_mean = df['lat'].mean()\n",
    "lng_mean =df['lng'].mean()\n",
    "center = [lat_mean,lng_mean]\n",
    "m = folium.Map(location=center, zoom_start=10)\n",
    "df.index\n",
    "for i in df.index[:]: \n",
    "    folium.Circle( location = df.loc[i, [\"lat\", \"lng\"]], tooltip = df.loc[i,\"code\" ], radius = 200 ).add_to(m)\n",
    "m"
   ]
  }
 ],
 "metadata": {
  "language_info": {
   "codemirror_mode": {
    "name": "ipython",
    "version": 3
   },
   "file_extension": ".py",
   "mimetype": "text/x-python",
   "name": "python",
   "nbconvert_exporter": "python",
   "pygments_lexer": "ipython3",
   "version": 3
  },
  "orig_nbformat": 2
 },
 "nbformat": 4,
 "nbformat_minor": 2
}