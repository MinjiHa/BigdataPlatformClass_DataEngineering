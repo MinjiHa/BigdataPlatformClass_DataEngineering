{
 "cells": [
  {
   "cell_type": "code",
   "execution_count": 12,
   "metadata": {},
   "outputs": [
    {
     "output_type": "stream",
     "name": "stdout",
     "text": "Requirement already satisfied: xlrd in c:\\python37\\lib\\site-packages (1.2.0)\n"
    },
    {
     "output_type": "execute_result",
     "data": {
      "text/plain": "     수학   과학\n홍길동  10  100\n이순신  30   80\n강감찬  20   30\n권율   90   40",
      "text/html": "<div>\n<style scoped>\n    .dataframe tbody tr th:only-of-type {\n        vertical-align: middle;\n    }\n\n    .dataframe tbody tr th {\n        vertical-align: top;\n    }\n\n    .dataframe thead th {\n        text-align: right;\n    }\n</style>\n<table border=\"1\" class=\"dataframe\">\n  <thead>\n    <tr style=\"text-align: right;\">\n      <th></th>\n      <th>수학</th>\n      <th>과학</th>\n    </tr>\n  </thead>\n  <tbody>\n    <tr>\n      <th>홍길동</th>\n      <td>10</td>\n      <td>100</td>\n    </tr>\n    <tr>\n      <th>이순신</th>\n      <td>30</td>\n      <td>80</td>\n    </tr>\n    <tr>\n      <th>강감찬</th>\n      <td>20</td>\n      <td>30</td>\n    </tr>\n    <tr>\n      <th>권율</th>\n      <td>90</td>\n      <td>40</td>\n    </tr>\n  </tbody>\n</table>\n</div>"
     },
     "metadata": {},
     "execution_count": 12
    }
   ],
   "source": [
    "import numpy as np \n",
    "import pandas as pd\n",
    "#!pip install xlrd\n",
    "\n",
    "df2 = pd.read_excel('score.xlsx',encoding='UTF-8',index_col = 0, header=0, sheet_name='Sheet2')\n",
    "df2.stack().unstack()\n"
   ]
  },
  {
   "cell_type": "code",
   "execution_count": 24,
   "metadata": {},
   "outputs": [
    {
     "output_type": "execute_result",
     "data": {
      "text/plain": "    1학기       2학기    \n     수학   과학   수학  과학\n홍길동  10  100   20  30\n이순신  30   80   40  50\n강감찬  20   30   10  90\n권율   90   40  100  90",
      "text/html": "<div>\n<style scoped>\n    .dataframe tbody tr th:only-of-type {\n        vertical-align: middle;\n    }\n\n    .dataframe tbody tr th {\n        vertical-align: top;\n    }\n\n    .dataframe thead tr th {\n        text-align: left;\n    }\n</style>\n<table border=\"1\" class=\"dataframe\">\n  <thead>\n    <tr>\n      <th></th>\n      <th colspan=\"2\" halign=\"left\">1학기</th>\n      <th colspan=\"2\" halign=\"left\">2학기</th>\n    </tr>\n    <tr>\n      <th></th>\n      <th>수학</th>\n      <th>과학</th>\n      <th>수학</th>\n      <th>과학</th>\n    </tr>\n  </thead>\n  <tbody>\n    <tr>\n      <th>홍길동</th>\n      <td>10</td>\n      <td>100</td>\n      <td>20</td>\n      <td>30</td>\n    </tr>\n    <tr>\n      <th>이순신</th>\n      <td>30</td>\n      <td>80</td>\n      <td>40</td>\n      <td>50</td>\n    </tr>\n    <tr>\n      <th>강감찬</th>\n      <td>20</td>\n      <td>30</td>\n      <td>10</td>\n      <td>90</td>\n    </tr>\n    <tr>\n      <th>권율</th>\n      <td>90</td>\n      <td>40</td>\n      <td>100</td>\n      <td>90</td>\n    </tr>\n  </tbody>\n</table>\n</div>"
     },
     "metadata": {},
     "execution_count": 24
    }
   ],
   "source": [
    "df6 = pd.read_excel('score.xlsx',encoding='UTF-8',index_col = 0, header=[0,1], sheet_name='Sheet1')\n",
    "df6"
   ]
  },
  {
   "cell_type": "code",
   "execution_count": 25,
   "metadata": {},
   "outputs": [
    {
     "output_type": "execute_result",
     "data": {
      "text/plain": "        1학기  2학기\n홍길동 과학  100   30\n    수학   10   20\n이순신 과학   80   50\n    수학   30   40\n강감찬 과학   30   90\n    수학   20   10\n권율  과학   40   90\n    수학   90  100",
      "text/html": "<div>\n<style scoped>\n    .dataframe tbody tr th:only-of-type {\n        vertical-align: middle;\n    }\n\n    .dataframe tbody tr th {\n        vertical-align: top;\n    }\n\n    .dataframe thead th {\n        text-align: right;\n    }\n</style>\n<table border=\"1\" class=\"dataframe\">\n  <thead>\n    <tr style=\"text-align: right;\">\n      <th></th>\n      <th></th>\n      <th>1학기</th>\n      <th>2학기</th>\n    </tr>\n  </thead>\n  <tbody>\n    <tr>\n      <th rowspan=\"2\" valign=\"top\">홍길동</th>\n      <th>과학</th>\n      <td>100</td>\n      <td>30</td>\n    </tr>\n    <tr>\n      <th>수학</th>\n      <td>10</td>\n      <td>20</td>\n    </tr>\n    <tr>\n      <th rowspan=\"2\" valign=\"top\">이순신</th>\n      <th>과학</th>\n      <td>80</td>\n      <td>50</td>\n    </tr>\n    <tr>\n      <th>수학</th>\n      <td>30</td>\n      <td>40</td>\n    </tr>\n    <tr>\n      <th rowspan=\"2\" valign=\"top\">강감찬</th>\n      <th>과학</th>\n      <td>30</td>\n      <td>90</td>\n    </tr>\n    <tr>\n      <th>수학</th>\n      <td>20</td>\n      <td>10</td>\n    </tr>\n    <tr>\n      <th rowspan=\"2\" valign=\"top\">권율</th>\n      <th>과학</th>\n      <td>40</td>\n      <td>90</td>\n    </tr>\n    <tr>\n      <th>수학</th>\n      <td>90</td>\n      <td>100</td>\n    </tr>\n  </tbody>\n</table>\n</div>"
     },
     "metadata": {},
     "execution_count": 25
    }
   ],
   "source": [
    "df6.stack()"
   ]
  },
  {
   "cell_type": "code",
   "execution_count": 26,
   "metadata": {},
   "outputs": [
    {
     "output_type": "execute_result",
     "data": {
      "text/plain": "          과학   수학\n홍길동 1학기  100   10\n    2학기   30   20\n이순신 1학기   80   30\n    2학기   50   40\n강감찬 1학기   30   20\n    2학기   90   10\n권율  1학기   40   90\n    2학기   90  100",
      "text/html": "<div>\n<style scoped>\n    .dataframe tbody tr th:only-of-type {\n        vertical-align: middle;\n    }\n\n    .dataframe tbody tr th {\n        vertical-align: top;\n    }\n\n    .dataframe thead th {\n        text-align: right;\n    }\n</style>\n<table border=\"1\" class=\"dataframe\">\n  <thead>\n    <tr style=\"text-align: right;\">\n      <th></th>\n      <th></th>\n      <th>과학</th>\n      <th>수학</th>\n    </tr>\n  </thead>\n  <tbody>\n    <tr>\n      <th rowspan=\"2\" valign=\"top\">홍길동</th>\n      <th>1학기</th>\n      <td>100</td>\n      <td>10</td>\n    </tr>\n    <tr>\n      <th>2학기</th>\n      <td>30</td>\n      <td>20</td>\n    </tr>\n    <tr>\n      <th rowspan=\"2\" valign=\"top\">이순신</th>\n      <th>1학기</th>\n      <td>80</td>\n      <td>30</td>\n    </tr>\n    <tr>\n      <th>2학기</th>\n      <td>50</td>\n      <td>40</td>\n    </tr>\n    <tr>\n      <th rowspan=\"2\" valign=\"top\">강감찬</th>\n      <th>1학기</th>\n      <td>30</td>\n      <td>20</td>\n    </tr>\n    <tr>\n      <th>2학기</th>\n      <td>90</td>\n      <td>10</td>\n    </tr>\n    <tr>\n      <th rowspan=\"2\" valign=\"top\">권율</th>\n      <th>1학기</th>\n      <td>40</td>\n      <td>90</td>\n    </tr>\n    <tr>\n      <th>2학기</th>\n      <td>90</td>\n      <td>100</td>\n    </tr>\n  </tbody>\n</table>\n</div>"
     },
     "metadata": {},
     "execution_count": 26
    }
   ],
   "source": [
    "df6.stack(level=0) #[과학,수학]과 [1학기,2학기]를 바꿈"
   ]
  },
  {
   "cell_type": "code",
   "execution_count": 27,
   "metadata": {},
   "outputs": [
    {
     "output_type": "execute_result",
     "data": {
      "text/plain": "        1학기  2학기\n홍길동 과학  100   30\n    수학   10   20\n이순신 과학   80   50\n    수학   30   40\n강감찬 과학   30   90\n    수학   20   10\n권율  과학   40   90\n    수학   90  100",
      "text/html": "<div>\n<style scoped>\n    .dataframe tbody tr th:only-of-type {\n        vertical-align: middle;\n    }\n\n    .dataframe tbody tr th {\n        vertical-align: top;\n    }\n\n    .dataframe thead th {\n        text-align: right;\n    }\n</style>\n<table border=\"1\" class=\"dataframe\">\n  <thead>\n    <tr style=\"text-align: right;\">\n      <th></th>\n      <th></th>\n      <th>1학기</th>\n      <th>2학기</th>\n    </tr>\n  </thead>\n  <tbody>\n    <tr>\n      <th rowspan=\"2\" valign=\"top\">홍길동</th>\n      <th>과학</th>\n      <td>100</td>\n      <td>30</td>\n    </tr>\n    <tr>\n      <th>수학</th>\n      <td>10</td>\n      <td>20</td>\n    </tr>\n    <tr>\n      <th rowspan=\"2\" valign=\"top\">이순신</th>\n      <th>과학</th>\n      <td>80</td>\n      <td>50</td>\n    </tr>\n    <tr>\n      <th>수학</th>\n      <td>30</td>\n      <td>40</td>\n    </tr>\n    <tr>\n      <th rowspan=\"2\" valign=\"top\">강감찬</th>\n      <th>과학</th>\n      <td>30</td>\n      <td>90</td>\n    </tr>\n    <tr>\n      <th>수학</th>\n      <td>20</td>\n      <td>10</td>\n    </tr>\n    <tr>\n      <th rowspan=\"2\" valign=\"top\">권율</th>\n      <th>과학</th>\n      <td>40</td>\n      <td>90</td>\n    </tr>\n    <tr>\n      <th>수학</th>\n      <td>90</td>\n      <td>100</td>\n    </tr>\n  </tbody>\n</table>\n</div>"
     },
     "metadata": {},
     "execution_count": 27
    }
   ],
   "source": [
    "df6.stack(level=1)"
   ]
  },
  {
   "cell_type": "code",
   "execution_count": 28,
   "metadata": {},
   "outputs": [
    {
     "output_type": "execute_result",
     "data": {
      "text/plain": "     1학기     2학기     \n      과학  수학  과학   수학\n강감찬   30  20  90   10\n권율    40  90  90  100\n이순신   80  30  50   40\n홍길동  100  10  30   20",
      "text/html": "<div>\n<style scoped>\n    .dataframe tbody tr th:only-of-type {\n        vertical-align: middle;\n    }\n\n    .dataframe tbody tr th {\n        vertical-align: top;\n    }\n\n    .dataframe thead tr th {\n        text-align: left;\n    }\n</style>\n<table border=\"1\" class=\"dataframe\">\n  <thead>\n    <tr>\n      <th></th>\n      <th colspan=\"2\" halign=\"left\">1학기</th>\n      <th colspan=\"2\" halign=\"left\">2학기</th>\n    </tr>\n    <tr>\n      <th></th>\n      <th>과학</th>\n      <th>수학</th>\n      <th>과학</th>\n      <th>수학</th>\n    </tr>\n  </thead>\n  <tbody>\n    <tr>\n      <th>강감찬</th>\n      <td>30</td>\n      <td>20</td>\n      <td>90</td>\n      <td>10</td>\n    </tr>\n    <tr>\n      <th>권율</th>\n      <td>40</td>\n      <td>90</td>\n      <td>90</td>\n      <td>100</td>\n    </tr>\n    <tr>\n      <th>이순신</th>\n      <td>80</td>\n      <td>30</td>\n      <td>50</td>\n      <td>40</td>\n    </tr>\n    <tr>\n      <th>홍길동</th>\n      <td>100</td>\n      <td>10</td>\n      <td>30</td>\n      <td>20</td>\n    </tr>\n  </tbody>\n</table>\n</div>"
     },
     "metadata": {},
     "execution_count": 28
    }
   ],
   "source": [
    "df6.stack(level=1).unstack()"
   ]
  }
 ],
 "metadata": {
  "language_info": {
   "codemirror_mode": {
    "name": "ipython",
    "version": 3
   },
   "file_extension": ".py",
   "mimetype": "text/x-python",
   "name": "python",
   "nbconvert_exporter": "python",
   "pygments_lexer": "ipython3",
   "version": "3.7.7-final"
  },
  "orig_nbformat": 2,
  "kernelspec": {
   "name": "python37764bit1304f9f95d054c62806119c5c6868c9e",
   "display_name": "Python 3.7.7 64-bit"
  }
 },
 "nbformat": 4,
 "nbformat_minor": 2
}