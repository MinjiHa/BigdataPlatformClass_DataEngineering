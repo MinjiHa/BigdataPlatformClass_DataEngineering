{
 "cells": [
  {
   "cell_type": "code",
   "execution_count": 3,
   "metadata": {},
   "outputs": [
    {
     "output_type": "execute_result",
     "data": {
      "text/plain": "    Points  Rank    Team  Year\n0      876     1  Riders  2014\n1      789     2  Riders  2015\n2      863     2  Devils  2014\n3      673     3  Devils  2015\n4      741     3   Kings  2014\n5      812     4   kings  2015\n6      756     1   Kings  2016\n7      788     1   Kings  2017\n8      694     2  Riders  2016\n9      701     4  Royals  2014\n10     804     1  Royals  2015\n11     690     2  Riders  2017",
      "text/html": "<div>\n<style scoped>\n    .dataframe tbody tr th:only-of-type {\n        vertical-align: middle;\n    }\n\n    .dataframe tbody tr th {\n        vertical-align: top;\n    }\n\n    .dataframe thead th {\n        text-align: right;\n    }\n</style>\n<table border=\"1\" class=\"dataframe\">\n  <thead>\n    <tr style=\"text-align: right;\">\n      <th></th>\n      <th>Points</th>\n      <th>Rank</th>\n      <th>Team</th>\n      <th>Year</th>\n    </tr>\n  </thead>\n  <tbody>\n    <tr>\n      <th>0</th>\n      <td>876</td>\n      <td>1</td>\n      <td>Riders</td>\n      <td>2014</td>\n    </tr>\n    <tr>\n      <th>1</th>\n      <td>789</td>\n      <td>2</td>\n      <td>Riders</td>\n      <td>2015</td>\n    </tr>\n    <tr>\n      <th>2</th>\n      <td>863</td>\n      <td>2</td>\n      <td>Devils</td>\n      <td>2014</td>\n    </tr>\n    <tr>\n      <th>3</th>\n      <td>673</td>\n      <td>3</td>\n      <td>Devils</td>\n      <td>2015</td>\n    </tr>\n    <tr>\n      <th>4</th>\n      <td>741</td>\n      <td>3</td>\n      <td>Kings</td>\n      <td>2014</td>\n    </tr>\n    <tr>\n      <th>5</th>\n      <td>812</td>\n      <td>4</td>\n      <td>kings</td>\n      <td>2015</td>\n    </tr>\n    <tr>\n      <th>6</th>\n      <td>756</td>\n      <td>1</td>\n      <td>Kings</td>\n      <td>2016</td>\n    </tr>\n    <tr>\n      <th>7</th>\n      <td>788</td>\n      <td>1</td>\n      <td>Kings</td>\n      <td>2017</td>\n    </tr>\n    <tr>\n      <th>8</th>\n      <td>694</td>\n      <td>2</td>\n      <td>Riders</td>\n      <td>2016</td>\n    </tr>\n    <tr>\n      <th>9</th>\n      <td>701</td>\n      <td>4</td>\n      <td>Royals</td>\n      <td>2014</td>\n    </tr>\n    <tr>\n      <th>10</th>\n      <td>804</td>\n      <td>1</td>\n      <td>Royals</td>\n      <td>2015</td>\n    </tr>\n    <tr>\n      <th>11</th>\n      <td>690</td>\n      <td>2</td>\n      <td>Riders</td>\n      <td>2017</td>\n    </tr>\n  </tbody>\n</table>\n</div>"
     },
     "metadata": {},
     "execution_count": 3
    }
   ],
   "source": [
    "import numpy as np \n",
    "import pandas as pd\n",
    "\n",
    "df = pd.read_csv(\"data.csv\")\n",
    "df"
   ]
  },
  {
   "cell_type": "code",
   "execution_count": 4,
   "metadata": {},
   "outputs": [
    {
     "output_type": "execute_result",
     "data": {
      "text/plain": "{'Devils': Int64Index([2, 3], dtype='int64'),\n 'Kings': Int64Index([4, 6, 7], dtype='int64'),\n 'Riders': Int64Index([0, 1, 8, 11], dtype='int64'),\n 'Royals': Int64Index([9, 10], dtype='int64'),\n 'kings': Int64Index([5], dtype='int64')}"
     },
     "metadata": {},
     "execution_count": 4
    }
   ],
   "source": [
    "df.groupby('Team').groups"
   ]
  },
  {
   "cell_type": "code",
   "execution_count": 5,
   "metadata": {},
   "outputs": [
    {
     "output_type": "execute_result",
     "data": {
      "text/plain": "{2014: Int64Index([0, 2, 4, 9], dtype='int64'),\n 2015: Int64Index([1, 3, 5, 10], dtype='int64'),\n 2016: Int64Index([6, 8], dtype='int64'),\n 2017: Int64Index([7, 11], dtype='int64')}"
     },
     "metadata": {},
     "execution_count": 5
    }
   ],
   "source": [
    "df.groupby('Year').groups"
   ]
  },
  {
   "cell_type": "code",
   "execution_count": 6,
   "metadata": {},
   "outputs": [
    {
     "output_type": "execute_result",
     "data": {
      "text/plain": "{('Devils', 2014): Int64Index([2], dtype='int64'),\n ('Devils', 2015): Int64Index([3], dtype='int64'),\n ('Kings', 2014): Int64Index([4], dtype='int64'),\n ('Kings', 2016): Int64Index([6], dtype='int64'),\n ('Kings', 2017): Int64Index([7], dtype='int64'),\n ('Riders', 2014): Int64Index([0], dtype='int64'),\n ('Riders', 2015): Int64Index([1], dtype='int64'),\n ('Riders', 2016): Int64Index([8], dtype='int64'),\n ('Riders', 2017): Int64Index([11], dtype='int64'),\n ('Royals', 2014): Int64Index([9], dtype='int64'),\n ('Royals', 2015): Int64Index([10], dtype='int64'),\n ('kings', 2015): Int64Index([5], dtype='int64')}"
     },
     "metadata": {},
     "execution_count": 6
    }
   ],
   "source": [
    "df.groupby(['Team','Year']).groups"
   ]
  },
  {
   "cell_type": "code",
   "execution_count": null,
   "metadata": {},
   "outputs": [],
   "source": [
    "grouped = df.groupby('Year')\n",
    "for name, group in grouped:\n",
    "    print(name)\n",
    "    print(group)"
   ]
  }
 ],
 "metadata": {
  "language_info": {
   "codemirror_mode": {
    "name": "ipython",
    "version": 3
   },
   "file_extension": ".py",
   "mimetype": "text/x-python",
   "name": "python",
   "nbconvert_exporter": "python",
   "pygments_lexer": "ipython3",
   "version": "3.7.7-final"
  },
  "orig_nbformat": 2,
  "kernelspec": {
   "name": "python37764bit1304f9f95d054c62806119c5c6868c9e",
   "display_name": "Python 3.7.7 64-bit"
  }
 },
 "nbformat": 4,
 "nbformat_minor": 2
}