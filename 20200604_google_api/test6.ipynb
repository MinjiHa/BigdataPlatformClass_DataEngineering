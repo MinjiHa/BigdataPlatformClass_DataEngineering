{
 "cells": [
  {
   "cell_type": "code",
   "execution_count": 3,
   "metadata": {},
   "outputs": [
    {
     "output_type": "execute_result",
     "data": {
      "text/plain": "   id_x name_x subject_id  id_y name_y\n0   1.0      a       sub1     4     d1\n1   2.0      b       sub2     1     a1\n2   4.0      d       sub4     2     b1\n3   5.0      e       sub5     5     e1\n4   NaN    NaN       sub6     3     c1",
      "text/html": "<div>\n<style scoped>\n    .dataframe tbody tr th:only-of-type {\n        vertical-align: middle;\n    }\n\n    .dataframe tbody tr th {\n        vertical-align: top;\n    }\n\n    .dataframe thead th {\n        text-align: right;\n    }\n</style>\n<table border=\"1\" class=\"dataframe\">\n  <thead>\n    <tr style=\"text-align: right;\">\n      <th></th>\n      <th>id_x</th>\n      <th>name_x</th>\n      <th>subject_id</th>\n      <th>id_y</th>\n      <th>name_y</th>\n    </tr>\n  </thead>\n  <tbody>\n    <tr>\n      <th>0</th>\n      <td>1.0</td>\n      <td>a</td>\n      <td>sub1</td>\n      <td>4</td>\n      <td>d1</td>\n    </tr>\n    <tr>\n      <th>1</th>\n      <td>2.0</td>\n      <td>b</td>\n      <td>sub2</td>\n      <td>1</td>\n      <td>a1</td>\n    </tr>\n    <tr>\n      <th>2</th>\n      <td>4.0</td>\n      <td>d</td>\n      <td>sub4</td>\n      <td>2</td>\n      <td>b1</td>\n    </tr>\n    <tr>\n      <th>3</th>\n      <td>5.0</td>\n      <td>e</td>\n      <td>sub5</td>\n      <td>5</td>\n      <td>e1</td>\n    </tr>\n    <tr>\n      <th>4</th>\n      <td>NaN</td>\n      <td>NaN</td>\n      <td>sub6</td>\n      <td>3</td>\n      <td>c1</td>\n    </tr>\n  </tbody>\n</table>\n</div>"
     },
     "metadata": {},
     "execution_count": 3
    }
   ],
   "source": [
    "import numpy as np \n",
    "import pandas as pd\n",
    "\n",
    "left = pd.DataFrame({\n",
    "    'id' : [1,2,3,4,5],\n",
    "    'name' : ['a','b','c','d','e'],\n",
    "    'subject_id' : ['sub1','sub2','sub3','sub4','sub5']\n",
    "})\n",
    "\n",
    "right = pd.DataFrame({\n",
    "    'id' : [1,2,3,4,5],\n",
    "    'name' : ['a1','b1','c1','d1','e1'],\n",
    "    'subject_id' : ['sub2','sub4','sub6','sub1','sub5']\n",
    "})\n",
    "\n",
    "pd.merge(left, right, on=\"id\")\n",
    "pd.merge(left, right, on=\"subject_id\", how= \"right\")"
   ]
  },
  {
   "cell_type": "code",
   "execution_count": null,
   "metadata": {},
   "outputs": [],
   "source": []
  }
 ],
 "metadata": {
  "language_info": {
   "codemirror_mode": {
    "name": "ipython",
    "version": 3
   },
   "file_extension": ".py",
   "mimetype": "text/x-python",
   "name": "python",
   "nbconvert_exporter": "python",
   "pygments_lexer": "ipython3",
   "version": "3.7.7-final"
  },
  "orig_nbformat": 2,
  "kernelspec": {
   "name": "python37764bit1304f9f95d054c62806119c5c6868c9e",
   "display_name": "Python 3.7.7 64-bit"
  }
 },
 "nbformat": 4,
 "nbformat_minor": 2
}