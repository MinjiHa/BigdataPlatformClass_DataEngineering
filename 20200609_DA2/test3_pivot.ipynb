{
 "cells": [
  {
   "cell_type": "code",
   "execution_count": 2,
   "metadata": {},
   "outputs": [
    {
     "output_type": "execute_result",
     "data": {
      "text/plain": "col1        a    b    c    d    e    f    g    h    i    j\ndate                                                      \n20200101  1.0  NaN  NaN  NaN  NaN  4.0  NaN  NaN  NaN  NaN\n20200102  NaN  NaN  3.0  NaN  NaN  NaN  NaN  2.0  NaN  NaN\n20200109  NaN  NaN  NaN  NaN  5.0  NaN  NaN  NaN  NaN  0.0\n20200110  NaN  8.0  NaN  NaN  NaN  NaN  7.0  NaN  NaN  NaN\n20200203  NaN  NaN  NaN  6.0  NaN  NaN  NaN  NaN  9.0  NaN",
      "text/html": "<div>\n<style scoped>\n    .dataframe tbody tr th:only-of-type {\n        vertical-align: middle;\n    }\n\n    .dataframe tbody tr th {\n        vertical-align: top;\n    }\n\n    .dataframe thead th {\n        text-align: right;\n    }\n</style>\n<table border=\"1\" class=\"dataframe\">\n  <thead>\n    <tr style=\"text-align: right;\">\n      <th>col1</th>\n      <th>a</th>\n      <th>b</th>\n      <th>c</th>\n      <th>d</th>\n      <th>e</th>\n      <th>f</th>\n      <th>g</th>\n      <th>h</th>\n      <th>i</th>\n      <th>j</th>\n    </tr>\n    <tr>\n      <th>date</th>\n      <th></th>\n      <th></th>\n      <th></th>\n      <th></th>\n      <th></th>\n      <th></th>\n      <th></th>\n      <th></th>\n      <th></th>\n      <th></th>\n    </tr>\n  </thead>\n  <tbody>\n    <tr>\n      <th>20200101</th>\n      <td>1.0</td>\n      <td>NaN</td>\n      <td>NaN</td>\n      <td>NaN</td>\n      <td>NaN</td>\n      <td>4.0</td>\n      <td>NaN</td>\n      <td>NaN</td>\n      <td>NaN</td>\n      <td>NaN</td>\n    </tr>\n    <tr>\n      <th>20200102</th>\n      <td>NaN</td>\n      <td>NaN</td>\n      <td>3.0</td>\n      <td>NaN</td>\n      <td>NaN</td>\n      <td>NaN</td>\n      <td>NaN</td>\n      <td>2.0</td>\n      <td>NaN</td>\n      <td>NaN</td>\n    </tr>\n    <tr>\n      <th>20200109</th>\n      <td>NaN</td>\n      <td>NaN</td>\n      <td>NaN</td>\n      <td>NaN</td>\n      <td>5.0</td>\n      <td>NaN</td>\n      <td>NaN</td>\n      <td>NaN</td>\n      <td>NaN</td>\n      <td>0.0</td>\n    </tr>\n    <tr>\n      <th>20200110</th>\n      <td>NaN</td>\n      <td>8.0</td>\n      <td>NaN</td>\n      <td>NaN</td>\n      <td>NaN</td>\n      <td>NaN</td>\n      <td>7.0</td>\n      <td>NaN</td>\n      <td>NaN</td>\n      <td>NaN</td>\n    </tr>\n    <tr>\n      <th>20200203</th>\n      <td>NaN</td>\n      <td>NaN</td>\n      <td>NaN</td>\n      <td>6.0</td>\n      <td>NaN</td>\n      <td>NaN</td>\n      <td>NaN</td>\n      <td>NaN</td>\n      <td>9.0</td>\n      <td>NaN</td>\n    </tr>\n  </tbody>\n</table>\n</div>"
     },
     "metadata": {},
     "execution_count": 2
    }
   ],
   "source": [
    "import pandas as pd\n",
    "from datetime import datetime\n",
    "\n",
    "#pd.date_range(datetime.today(), periods=10).to_pydatetime().tolist()\n",
    "#d = pd.date_range(start='2020-01-01', end='2020-01-10')\n",
    "\n",
    "d = ['20200101','20200110','20200102','20200203','20200109','20200101','20200110','20200102','20200203','20200109']\n",
    "col1 = ['a','b','c','d','e','f','g','h','i','j']\n",
    "col2 = [1,8,3,6,5,4,7,2,9,0]\n",
    "data = {'date' : d , 'col1' : col1, 'col2':col2 }\n",
    "df = pd.DataFrame(data)\n",
    "df.pivot_table(index = 'date', columns='col1', values='col2')"
   ]
  },
  {
   "cell_type": "code",
   "execution_count": 14,
   "metadata": {},
   "outputs": [
    {
     "output_type": "execute_result",
     "data": {
      "text/plain": "col1       aa   bb   cc   dd   ee\ndate                             \n20200101  1.0  2.0  3.0  NaN  NaN\n20200102  1.0  2.0  3.0  NaN  NaN\n20200103  1.0  NaN  NaN  2.0  3.0",
      "text/html": "<div>\n<style scoped>\n    .dataframe tbody tr th:only-of-type {\n        vertical-align: middle;\n    }\n\n    .dataframe tbody tr th {\n        vertical-align: top;\n    }\n\n    .dataframe thead th {\n        text-align: right;\n    }\n</style>\n<table border=\"1\" class=\"dataframe\">\n  <thead>\n    <tr style=\"text-align: right;\">\n      <th>col1</th>\n      <th>aa</th>\n      <th>bb</th>\n      <th>cc</th>\n      <th>dd</th>\n      <th>ee</th>\n    </tr>\n    <tr>\n      <th>date</th>\n      <th></th>\n      <th></th>\n      <th></th>\n      <th></th>\n      <th></th>\n    </tr>\n  </thead>\n  <tbody>\n    <tr>\n      <th>20200101</th>\n      <td>1.0</td>\n      <td>2.0</td>\n      <td>3.0</td>\n      <td>NaN</td>\n      <td>NaN</td>\n    </tr>\n    <tr>\n      <th>20200102</th>\n      <td>1.0</td>\n      <td>2.0</td>\n      <td>3.0</td>\n      <td>NaN</td>\n      <td>NaN</td>\n    </tr>\n    <tr>\n      <th>20200103</th>\n      <td>1.0</td>\n      <td>NaN</td>\n      <td>NaN</td>\n      <td>2.0</td>\n      <td>3.0</td>\n    </tr>\n  </tbody>\n</table>\n</div>"
     },
     "metadata": {},
     "execution_count": 14
    }
   ],
   "source": [
    "import pandas as pd\n",
    "from datetime import datetime\n",
    "# pd.date_range(datetime.today(), periods=10).to_pydatetime().tolist()\n",
    "# d = pd.date_range(start='2020-01-01', end='2020-01-10')\n",
    "d = ['20200101','20200101','20200101','20200102','20200102',    \n",
    "    '20200102','20200103','20200103','20200103']\n",
    "col1 = ['aa','bb','cc','aa','bb','cc','aa','dd','ee']\n",
    "col2 = [1,2,3,1,2,3,1,2,3]\n",
    "data = {'date':d, 'col1':col1, 'col2':col2}\n",
    "df = pd.DataFrame(data)\n",
    "df\n",
    "df.pivot_table(index='date', columns='col1',values='col2')"
   ]
  },
  {
   "cell_type": "code",
   "execution_count": 4,
   "metadata": {},
   "outputs": [
    {
     "output_type": "execute_result",
     "data": {
      "text/plain": "col2   x1   x2   y1   y2\ncol1                    \nabb   2.0  2.0  0.0  2.0\ndda   0.0  0.0  2.0  0.0\ndef   0.0  2.0  0.0  0.0",
      "text/html": "<div>\n<style scoped>\n    .dataframe tbody tr th:only-of-type {\n        vertical-align: middle;\n    }\n\n    .dataframe tbody tr th {\n        vertical-align: top;\n    }\n\n    .dataframe thead th {\n        text-align: right;\n    }\n</style>\n<table border=\"1\" class=\"dataframe\">\n  <thead>\n    <tr style=\"text-align: right;\">\n      <th>col2</th>\n      <th>x1</th>\n      <th>x2</th>\n      <th>y1</th>\n      <th>y2</th>\n    </tr>\n    <tr>\n      <th>col1</th>\n      <th></th>\n      <th></th>\n      <th></th>\n      <th></th>\n    </tr>\n  </thead>\n  <tbody>\n    <tr>\n      <th>abb</th>\n      <td>2.0</td>\n      <td>2.0</td>\n      <td>0.0</td>\n      <td>2.0</td>\n    </tr>\n    <tr>\n      <th>dda</th>\n      <td>0.0</td>\n      <td>0.0</td>\n      <td>2.0</td>\n      <td>0.0</td>\n    </tr>\n    <tr>\n      <th>def</th>\n      <td>0.0</td>\n      <td>2.0</td>\n      <td>0.0</td>\n      <td>0.0</td>\n    </tr>\n  </tbody>\n</table>\n</div>"
     },
     "metadata": {},
     "execution_count": 4
    }
   ],
   "source": [
    "col1 = ['abb','def','dda','abb','abb']\n",
    "col2 = ['x1','x2','y1','y2','x2']\n",
    "col3 = [2,2,2,2,2]\n",
    "data = {'col1':col1, 'col2':col2, 'col3':col3}\n",
    "df = pd.DataFrame(data)\n",
    "df\n",
    "df.pivot_table(index='col1', columns='col2',values='col3').fillna(0)"
   ]
  },
  {
   "cell_type": "code",
   "execution_count": 14,
   "metadata": {},
   "outputs": [
    {
     "output_type": "execute_result",
     "data": {
      "text/plain": "    baz       zoo      \nbar   A  B  C   A  B  C\nfoo                    \none   1  2  3   x  y  z\ntwo   4  5  6   q  w  t",
      "text/html": "<div>\n<style scoped>\n    .dataframe tbody tr th:only-of-type {\n        vertical-align: middle;\n    }\n\n    .dataframe tbody tr th {\n        vertical-align: top;\n    }\n\n    .dataframe thead tr th {\n        text-align: left;\n    }\n\n    .dataframe thead tr:last-of-type th {\n        text-align: right;\n    }\n</style>\n<table border=\"1\" class=\"dataframe\">\n  <thead>\n    <tr>\n      <th></th>\n      <th colspan=\"3\" halign=\"left\">baz</th>\n      <th colspan=\"3\" halign=\"left\">zoo</th>\n    </tr>\n    <tr>\n      <th>bar</th>\n      <th>A</th>\n      <th>B</th>\n      <th>C</th>\n      <th>A</th>\n      <th>B</th>\n      <th>C</th>\n    </tr>\n    <tr>\n      <th>foo</th>\n      <th></th>\n      <th></th>\n      <th></th>\n      <th></th>\n      <th></th>\n      <th></th>\n    </tr>\n  </thead>\n  <tbody>\n    <tr>\n      <th>one</th>\n      <td>1</td>\n      <td>2</td>\n      <td>3</td>\n      <td>x</td>\n      <td>y</td>\n      <td>z</td>\n    </tr>\n    <tr>\n      <th>two</th>\n      <td>4</td>\n      <td>5</td>\n      <td>6</td>\n      <td>q</td>\n      <td>w</td>\n      <td>t</td>\n    </tr>\n  </tbody>\n</table>\n</div>"
     },
     "metadata": {},
     "execution_count": 14
    }
   ],
   "source": [
    "df2 = pd.DataFrame(\n",
    "    {'foo':['one','one','one','two','two','two'],\n",
    "    'bar':['A','B','C','A','B','C'],\n",
    "    'baz':[1,2,3,4,5,6],\n",
    "    'zoo':['x','y','z','q','w','t'],\n",
    "    })\n",
    "\n",
    "df2.pivot(index='foo', columns='bar', values='baz') # 방법1\n",
    "df2.pivot(index='foo', columns='bar')['baz'] # 방법2. 똑같은 결과 나옴.\n",
    "# df2.set_index(['foo','bar'])[['baz']].unstack() # 방법3. 위의 피벗과 결과 같음.\n",
    "\n",
    "df2.pivot(index='foo', columns='bar', values=['baz','zoo'])"
   ]
  },
  {
   "cell_type": "code",
   "execution_count": 24,
   "metadata": {},
   "outputs": [
    {
     "output_type": "execute_result",
     "data": {
      "text/plain": "   Account                          Name  ...  Price     Status\n0   714466               Trantow-Barrows  ...  30000  presented\n1   714466               Trantow-Barrows  ...  10000  presented\n2   714466               Trantow-Barrows  ...   5000    pending\n3   737550  Fritsch, Russel and Anderson  ...  35000   declined\n4   146832                  Kiehn-Spinka  ...  65000        won\n\n[5 rows x 8 columns]",
      "text/html": "<div>\n<style scoped>\n    .dataframe tbody tr th:only-of-type {\n        vertical-align: middle;\n    }\n\n    .dataframe tbody tr th {\n        vertical-align: top;\n    }\n\n    .dataframe thead th {\n        text-align: right;\n    }\n</style>\n<table border=\"1\" class=\"dataframe\">\n  <thead>\n    <tr style=\"text-align: right;\">\n      <th></th>\n      <th>Account</th>\n      <th>Name</th>\n      <th>Rep</th>\n      <th>Manager</th>\n      <th>Product</th>\n      <th>Quantity</th>\n      <th>Price</th>\n      <th>Status</th>\n    </tr>\n  </thead>\n  <tbody>\n    <tr>\n      <th>0</th>\n      <td>714466</td>\n      <td>Trantow-Barrows</td>\n      <td>Craig Booker</td>\n      <td>Debra Henley</td>\n      <td>CPU</td>\n      <td>1</td>\n      <td>30000</td>\n      <td>presented</td>\n    </tr>\n    <tr>\n      <th>1</th>\n      <td>714466</td>\n      <td>Trantow-Barrows</td>\n      <td>Craig Booker</td>\n      <td>Debra Henley</td>\n      <td>Software</td>\n      <td>1</td>\n      <td>10000</td>\n      <td>presented</td>\n    </tr>\n    <tr>\n      <th>2</th>\n      <td>714466</td>\n      <td>Trantow-Barrows</td>\n      <td>Craig Booker</td>\n      <td>Debra Henley</td>\n      <td>Maintenance</td>\n      <td>2</td>\n      <td>5000</td>\n      <td>pending</td>\n    </tr>\n    <tr>\n      <th>3</th>\n      <td>737550</td>\n      <td>Fritsch, Russel and Anderson</td>\n      <td>Craig Booker</td>\n      <td>Debra Henley</td>\n      <td>CPU</td>\n      <td>1</td>\n      <td>35000</td>\n      <td>declined</td>\n    </tr>\n    <tr>\n      <th>4</th>\n      <td>146832</td>\n      <td>Kiehn-Spinka</td>\n      <td>Daniel Hilton</td>\n      <td>Debra Henley</td>\n      <td>CPU</td>\n      <td>2</td>\n      <td>65000</td>\n      <td>won</td>\n    </tr>\n  </tbody>\n</table>\n</div>"
     },
     "metadata": {},
     "execution_count": 24
    }
   ],
   "source": [
    "import pandas as pd\n",
    "import numpy as numpy\n",
    "\n",
    "df = pd.read_excel(\"../20200608_pyda1/data/02. sales-funnel.xlsx\")\n",
    "df.shape\n",
    "df.index\n",
    "df.head()"
   ]
  },
  {
   "cell_type": "code",
   "execution_count": 23,
   "metadata": {},
   "outputs": [
    {
     "output_type": "execute_result",
     "data": {
      "text/plain": "             Price                               ...                           \nName    Barton LLC Fritsch, Russel and Anderson  ... Stokes LLC Trantow-Barrows\nAccount                                          ...                           \n141962         NaN                          NaN  ...        NaN             NaN\n146832         NaN                          NaN  ...        NaN             NaN\n163416         NaN                          NaN  ...        NaN             NaN\n218895         NaN                          NaN  ...        NaN             NaN\n239344         NaN                          NaN  ...     7500.0             NaN\n307599         NaN                          NaN  ...        NaN             NaN\n412290         NaN                          NaN  ...        NaN             NaN\n688981         NaN                          NaN  ...        NaN             NaN\n714466         NaN                          NaN  ...        NaN         15000.0\n729833         NaN                          NaN  ...        NaN             NaN\n737550         NaN                      35000.0  ...        NaN             NaN\n740150     35000.0                          NaN  ...        NaN             NaN\n\n[12 rows x 12 columns]",
      "text/html": "<div>\n<style scoped>\n    .dataframe tbody tr th:only-of-type {\n        vertical-align: middle;\n    }\n\n    .dataframe tbody tr th {\n        vertical-align: top;\n    }\n\n    .dataframe thead tr th {\n        text-align: left;\n    }\n\n    .dataframe thead tr:last-of-type th {\n        text-align: right;\n    }\n</style>\n<table border=\"1\" class=\"dataframe\">\n  <thead>\n    <tr>\n      <th></th>\n      <th colspan=\"12\" halign=\"left\">Price</th>\n    </tr>\n    <tr>\n      <th>Name</th>\n      <th>Barton LLC</th>\n      <th>Fritsch, Russel and Anderson</th>\n      <th>Herman LLC</th>\n      <th>Jerde-Hilpert</th>\n      <th>Kassulke, Ondricka and Metz</th>\n      <th>Keeling LLC</th>\n      <th>Kiehn-Spinka</th>\n      <th>Koepp Ltd</th>\n      <th>Kulas Inc</th>\n      <th>Purdy-Kunde</th>\n      <th>Stokes LLC</th>\n      <th>Trantow-Barrows</th>\n    </tr>\n    <tr>\n      <th>Account</th>\n      <th></th>\n      <th></th>\n      <th></th>\n      <th></th>\n      <th></th>\n      <th></th>\n      <th></th>\n      <th></th>\n      <th></th>\n      <th></th>\n      <th></th>\n      <th></th>\n    </tr>\n  </thead>\n  <tbody>\n    <tr>\n      <th>141962</th>\n      <td>NaN</td>\n      <td>NaN</td>\n      <td>65000.0</td>\n      <td>NaN</td>\n      <td>NaN</td>\n      <td>NaN</td>\n      <td>NaN</td>\n      <td>NaN</td>\n      <td>NaN</td>\n      <td>NaN</td>\n      <td>NaN</td>\n      <td>NaN</td>\n    </tr>\n    <tr>\n      <th>146832</th>\n      <td>NaN</td>\n      <td>NaN</td>\n      <td>NaN</td>\n      <td>NaN</td>\n      <td>NaN</td>\n      <td>NaN</td>\n      <td>65000.0</td>\n      <td>NaN</td>\n      <td>NaN</td>\n      <td>NaN</td>\n      <td>NaN</td>\n      <td>NaN</td>\n    </tr>\n    <tr>\n      <th>163416</th>\n      <td>NaN</td>\n      <td>NaN</td>\n      <td>NaN</td>\n      <td>NaN</td>\n      <td>NaN</td>\n      <td>NaN</td>\n      <td>NaN</td>\n      <td>NaN</td>\n      <td>NaN</td>\n      <td>30000.0</td>\n      <td>NaN</td>\n      <td>NaN</td>\n    </tr>\n    <tr>\n      <th>218895</th>\n      <td>NaN</td>\n      <td>NaN</td>\n      <td>NaN</td>\n      <td>NaN</td>\n      <td>NaN</td>\n      <td>NaN</td>\n      <td>NaN</td>\n      <td>NaN</td>\n      <td>25000.0</td>\n      <td>NaN</td>\n      <td>NaN</td>\n      <td>NaN</td>\n    </tr>\n    <tr>\n      <th>239344</th>\n      <td>NaN</td>\n      <td>NaN</td>\n      <td>NaN</td>\n      <td>NaN</td>\n      <td>NaN</td>\n      <td>NaN</td>\n      <td>NaN</td>\n      <td>NaN</td>\n      <td>NaN</td>\n      <td>NaN</td>\n      <td>7500.0</td>\n      <td>NaN</td>\n    </tr>\n    <tr>\n      <th>307599</th>\n      <td>NaN</td>\n      <td>NaN</td>\n      <td>NaN</td>\n      <td>NaN</td>\n      <td>7000.0</td>\n      <td>NaN</td>\n      <td>NaN</td>\n      <td>NaN</td>\n      <td>NaN</td>\n      <td>NaN</td>\n      <td>NaN</td>\n      <td>NaN</td>\n    </tr>\n    <tr>\n      <th>412290</th>\n      <td>NaN</td>\n      <td>NaN</td>\n      <td>NaN</td>\n      <td>5000.0</td>\n      <td>NaN</td>\n      <td>NaN</td>\n      <td>NaN</td>\n      <td>NaN</td>\n      <td>NaN</td>\n      <td>NaN</td>\n      <td>NaN</td>\n      <td>NaN</td>\n    </tr>\n    <tr>\n      <th>688981</th>\n      <td>NaN</td>\n      <td>NaN</td>\n      <td>NaN</td>\n      <td>NaN</td>\n      <td>NaN</td>\n      <td>100000.0</td>\n      <td>NaN</td>\n      <td>NaN</td>\n      <td>NaN</td>\n      <td>NaN</td>\n      <td>NaN</td>\n      <td>NaN</td>\n    </tr>\n    <tr>\n      <th>714466</th>\n      <td>NaN</td>\n      <td>NaN</td>\n      <td>NaN</td>\n      <td>NaN</td>\n      <td>NaN</td>\n      <td>NaN</td>\n      <td>NaN</td>\n      <td>NaN</td>\n      <td>NaN</td>\n      <td>NaN</td>\n      <td>NaN</td>\n      <td>15000.0</td>\n    </tr>\n    <tr>\n      <th>729833</th>\n      <td>NaN</td>\n      <td>NaN</td>\n      <td>NaN</td>\n      <td>NaN</td>\n      <td>NaN</td>\n      <td>NaN</td>\n      <td>NaN</td>\n      <td>35000.0</td>\n      <td>NaN</td>\n      <td>NaN</td>\n      <td>NaN</td>\n      <td>NaN</td>\n    </tr>\n    <tr>\n      <th>737550</th>\n      <td>NaN</td>\n      <td>35000.0</td>\n      <td>NaN</td>\n      <td>NaN</td>\n      <td>NaN</td>\n      <td>NaN</td>\n      <td>NaN</td>\n      <td>NaN</td>\n      <td>NaN</td>\n      <td>NaN</td>\n      <td>NaN</td>\n      <td>NaN</td>\n    </tr>\n    <tr>\n      <th>740150</th>\n      <td>35000.0</td>\n      <td>NaN</td>\n      <td>NaN</td>\n      <td>NaN</td>\n      <td>NaN</td>\n      <td>NaN</td>\n      <td>NaN</td>\n      <td>NaN</td>\n      <td>NaN</td>\n      <td>NaN</td>\n      <td>NaN</td>\n      <td>NaN</td>\n    </tr>\n  </tbody>\n</table>\n</div>"
     },
     "metadata": {},
     "execution_count": 23
    }
   ],
   "source": [
    "pd.pivot_table(df, index = ['Account'])\n",
    "pd.pivot_table(df, index=[\"Account\"], columns=['Name'], values=['Price'])"
   ]
  },
  {
   "cell_type": "code",
   "execution_count": 25,
   "metadata": {},
   "outputs": [
    {
     "output_type": "execute_result",
     "data": {
      "text/plain": "                              Account   Price  Quantity\nName                                                   \nBarton LLC                     740150   35000  1.000000\nFritsch, Russel and Anderson   737550   35000  1.000000\nHerman LLC                     141962   65000  2.000000\nJerde-Hilpert                  412290    5000  2.000000\nKassulke, Ondricka and Metz    307599    7000  3.000000\nKeeling LLC                    688981  100000  5.000000\nKiehn-Spinka                   146832   65000  2.000000\nKoepp Ltd                      729833   35000  2.000000\nKulas Inc                      218895   25000  1.500000\nPurdy-Kunde                    163416   30000  1.000000\nStokes LLC                     239344    7500  1.000000\nTrantow-Barrows                714466   15000  1.333333",
      "text/html": "<div>\n<style scoped>\n    .dataframe tbody tr th:only-of-type {\n        vertical-align: middle;\n    }\n\n    .dataframe tbody tr th {\n        vertical-align: top;\n    }\n\n    .dataframe thead th {\n        text-align: right;\n    }\n</style>\n<table border=\"1\" class=\"dataframe\">\n  <thead>\n    <tr style=\"text-align: right;\">\n      <th></th>\n      <th>Account</th>\n      <th>Price</th>\n      <th>Quantity</th>\n    </tr>\n    <tr>\n      <th>Name</th>\n      <th></th>\n      <th></th>\n      <th></th>\n    </tr>\n  </thead>\n  <tbody>\n    <tr>\n      <th>Barton LLC</th>\n      <td>740150</td>\n      <td>35000</td>\n      <td>1.000000</td>\n    </tr>\n    <tr>\n      <th>Fritsch, Russel and Anderson</th>\n      <td>737550</td>\n      <td>35000</td>\n      <td>1.000000</td>\n    </tr>\n    <tr>\n      <th>Herman LLC</th>\n      <td>141962</td>\n      <td>65000</td>\n      <td>2.000000</td>\n    </tr>\n    <tr>\n      <th>Jerde-Hilpert</th>\n      <td>412290</td>\n      <td>5000</td>\n      <td>2.000000</td>\n    </tr>\n    <tr>\n      <th>Kassulke, Ondricka and Metz</th>\n      <td>307599</td>\n      <td>7000</td>\n      <td>3.000000</td>\n    </tr>\n    <tr>\n      <th>Keeling LLC</th>\n      <td>688981</td>\n      <td>100000</td>\n      <td>5.000000</td>\n    </tr>\n    <tr>\n      <th>Kiehn-Spinka</th>\n      <td>146832</td>\n      <td>65000</td>\n      <td>2.000000</td>\n    </tr>\n    <tr>\n      <th>Koepp Ltd</th>\n      <td>729833</td>\n      <td>35000</td>\n      <td>2.000000</td>\n    </tr>\n    <tr>\n      <th>Kulas Inc</th>\n      <td>218895</td>\n      <td>25000</td>\n      <td>1.500000</td>\n    </tr>\n    <tr>\n      <th>Purdy-Kunde</th>\n      <td>163416</td>\n      <td>30000</td>\n      <td>1.000000</td>\n    </tr>\n    <tr>\n      <th>Stokes LLC</th>\n      <td>239344</td>\n      <td>7500</td>\n      <td>1.000000</td>\n    </tr>\n    <tr>\n      <th>Trantow-Barrows</th>\n      <td>714466</td>\n      <td>15000</td>\n      <td>1.333333</td>\n    </tr>\n  </tbody>\n</table>\n</div>"
     },
     "metadata": {},
     "execution_count": 25
    }
   ],
   "source": [
    "pd.pivot_table(df, index = ['Name'])"
   ]
  },
  {
   "cell_type": "code",
   "execution_count": 27,
   "metadata": {},
   "outputs": [
    {
     "output_type": "execute_result",
     "data": {
      "text/plain": "                                    Price\nManager       Rep                        \nDebra Henley  Craig Booker   20000.000000\n              Daniel Hilton  38333.333333\n              John Smith     20000.000000\nFred Anderson Cedric Moss    27500.000000\n              Wendy Yule     44250.000000",
      "text/html": "<div>\n<style scoped>\n    .dataframe tbody tr th:only-of-type {\n        vertical-align: middle;\n    }\n\n    .dataframe tbody tr th {\n        vertical-align: top;\n    }\n\n    .dataframe thead th {\n        text-align: right;\n    }\n</style>\n<table border=\"1\" class=\"dataframe\">\n  <thead>\n    <tr style=\"text-align: right;\">\n      <th></th>\n      <th></th>\n      <th>Price</th>\n    </tr>\n    <tr>\n      <th>Manager</th>\n      <th>Rep</th>\n      <th></th>\n    </tr>\n  </thead>\n  <tbody>\n    <tr>\n      <th rowspan=\"3\" valign=\"top\">Debra Henley</th>\n      <th>Craig Booker</th>\n      <td>20000.000000</td>\n    </tr>\n    <tr>\n      <th>Daniel Hilton</th>\n      <td>38333.333333</td>\n    </tr>\n    <tr>\n      <th>John Smith</th>\n      <td>20000.000000</td>\n    </tr>\n    <tr>\n      <th rowspan=\"2\" valign=\"top\">Fred Anderson</th>\n      <th>Cedric Moss</th>\n      <td>27500.000000</td>\n    </tr>\n    <tr>\n      <th>Wendy Yule</th>\n      <td>44250.000000</td>\n    </tr>\n  </tbody>\n</table>\n</div>"
     },
     "metadata": {},
     "execution_count": 27
    }
   ],
   "source": [
    "pd.pivot_table(df, index=[\"Name\",\"Rep\",\"Manager\"])\n",
    "pd.pivot_table(df, index=[\"Manager\",\"Rep\"],values=[\"Price\"])"
   ]
  },
  {
   "cell_type": "code",
   "execution_count": 31,
   "metadata": {},
   "outputs": [
    {
     "output_type": "execute_result",
     "data": {
      "text/plain": "                              Price\nManager       Rep                  \nDebra Henley  Craig Booker    80000\n              Daniel Hilton  115000\n              John Smith      40000\nFred Anderson Cedric Moss    110000\n              Wendy Yule     177000",
      "text/html": "<div>\n<style scoped>\n    .dataframe tbody tr th:only-of-type {\n        vertical-align: middle;\n    }\n\n    .dataframe tbody tr th {\n        vertical-align: top;\n    }\n\n    .dataframe thead th {\n        text-align: right;\n    }\n</style>\n<table border=\"1\" class=\"dataframe\">\n  <thead>\n    <tr style=\"text-align: right;\">\n      <th></th>\n      <th></th>\n      <th>Price</th>\n    </tr>\n    <tr>\n      <th>Manager</th>\n      <th>Rep</th>\n      <th></th>\n    </tr>\n  </thead>\n  <tbody>\n    <tr>\n      <th rowspan=\"3\" valign=\"top\">Debra Henley</th>\n      <th>Craig Booker</th>\n      <td>80000</td>\n    </tr>\n    <tr>\n      <th>Daniel Hilton</th>\n      <td>115000</td>\n    </tr>\n    <tr>\n      <th>John Smith</th>\n      <td>40000</td>\n    </tr>\n    <tr>\n      <th rowspan=\"2\" valign=\"top\">Fred Anderson</th>\n      <th>Cedric Moss</th>\n      <td>110000</td>\n    </tr>\n    <tr>\n      <th>Wendy Yule</th>\n      <td>177000</td>\n    </tr>\n  </tbody>\n</table>\n</div>"
     },
     "metadata": {},
     "execution_count": 31
    }
   ],
   "source": [
    "import numpy as np\n",
    "\n",
    "pd.pivot_table(df, index=[\"Manager\",\"Rep\"],values=[\"Price\"], aggfunc=np.sum)"
   ]
  },
  {
   "cell_type": "code",
   "execution_count": 32,
   "metadata": {},
   "outputs": [
    {
     "output_type": "execute_result",
     "data": {
      "text/plain": "                                                 mean  ...      sum\n                                                Price  ... Quantity\nManager       Rep           Product                    ...         \nDebra Henley  Craig Booker  CPU          32500.000000  ...        2\n                            Maintenance   5000.000000  ...        2\n                            Software     10000.000000  ...        1\n              Daniel Hilton CPU          52500.000000  ...        4\n                            Software     10000.000000  ...        1\n              John Smith    CPU          35000.000000  ...        1\n                            Maintenance   5000.000000  ...        2\nFred Anderson Cedric Moss   CPU          47500.000000  ...        3\n                            Maintenance   5000.000000  ...        1\n                            Software     10000.000000  ...        1\n              Wendy Yule    CPU          82500.000000  ...        7\n                            Maintenance   7000.000000  ...        3\n                            Monitor       5000.000000  ...        2\nAll                                      30705.882353  ...       30\n\n[14 rows x 4 columns]",
      "text/html": "<div>\n<style scoped>\n    .dataframe tbody tr th:only-of-type {\n        vertical-align: middle;\n    }\n\n    .dataframe tbody tr th {\n        vertical-align: top;\n    }\n\n    .dataframe thead tr th {\n        text-align: left;\n    }\n\n    .dataframe thead tr:last-of-type th {\n        text-align: right;\n    }\n</style>\n<table border=\"1\" class=\"dataframe\">\n  <thead>\n    <tr>\n      <th></th>\n      <th></th>\n      <th></th>\n      <th colspan=\"2\" halign=\"left\">mean</th>\n      <th colspan=\"2\" halign=\"left\">sum</th>\n    </tr>\n    <tr>\n      <th></th>\n      <th></th>\n      <th></th>\n      <th>Price</th>\n      <th>Quantity</th>\n      <th>Price</th>\n      <th>Quantity</th>\n    </tr>\n    <tr>\n      <th>Manager</th>\n      <th>Rep</th>\n      <th>Product</th>\n      <th></th>\n      <th></th>\n      <th></th>\n      <th></th>\n    </tr>\n  </thead>\n  <tbody>\n    <tr>\n      <th rowspan=\"7\" valign=\"top\">Debra Henley</th>\n      <th rowspan=\"3\" valign=\"top\">Craig Booker</th>\n      <th>CPU</th>\n      <td>32500.000000</td>\n      <td>1.000000</td>\n      <td>65000</td>\n      <td>2</td>\n    </tr>\n    <tr>\n      <th>Maintenance</th>\n      <td>5000.000000</td>\n      <td>2.000000</td>\n      <td>5000</td>\n      <td>2</td>\n    </tr>\n    <tr>\n      <th>Software</th>\n      <td>10000.000000</td>\n      <td>1.000000</td>\n      <td>10000</td>\n      <td>1</td>\n    </tr>\n    <tr>\n      <th rowspan=\"2\" valign=\"top\">Daniel Hilton</th>\n      <th>CPU</th>\n      <td>52500.000000</td>\n      <td>2.000000</td>\n      <td>105000</td>\n      <td>4</td>\n    </tr>\n    <tr>\n      <th>Software</th>\n      <td>10000.000000</td>\n      <td>1.000000</td>\n      <td>10000</td>\n      <td>1</td>\n    </tr>\n    <tr>\n      <th rowspan=\"2\" valign=\"top\">John Smith</th>\n      <th>CPU</th>\n      <td>35000.000000</td>\n      <td>1.000000</td>\n      <td>35000</td>\n      <td>1</td>\n    </tr>\n    <tr>\n      <th>Maintenance</th>\n      <td>5000.000000</td>\n      <td>2.000000</td>\n      <td>5000</td>\n      <td>2</td>\n    </tr>\n    <tr>\n      <th rowspan=\"6\" valign=\"top\">Fred Anderson</th>\n      <th rowspan=\"3\" valign=\"top\">Cedric Moss</th>\n      <th>CPU</th>\n      <td>47500.000000</td>\n      <td>1.500000</td>\n      <td>95000</td>\n      <td>3</td>\n    </tr>\n    <tr>\n      <th>Maintenance</th>\n      <td>5000.000000</td>\n      <td>1.000000</td>\n      <td>5000</td>\n      <td>1</td>\n    </tr>\n    <tr>\n      <th>Software</th>\n      <td>10000.000000</td>\n      <td>1.000000</td>\n      <td>10000</td>\n      <td>1</td>\n    </tr>\n    <tr>\n      <th rowspan=\"3\" valign=\"top\">Wendy Yule</th>\n      <th>CPU</th>\n      <td>82500.000000</td>\n      <td>3.500000</td>\n      <td>165000</td>\n      <td>7</td>\n    </tr>\n    <tr>\n      <th>Maintenance</th>\n      <td>7000.000000</td>\n      <td>3.000000</td>\n      <td>7000</td>\n      <td>3</td>\n    </tr>\n    <tr>\n      <th>Monitor</th>\n      <td>5000.000000</td>\n      <td>2.000000</td>\n      <td>5000</td>\n      <td>2</td>\n    </tr>\n    <tr>\n      <th>All</th>\n      <th></th>\n      <th></th>\n      <td>30705.882353</td>\n      <td>1.764706</td>\n      <td>522000</td>\n      <td>30</td>\n    </tr>\n  </tbody>\n</table>\n</div>"
     },
     "metadata": {},
     "execution_count": 32
    }
   ],
   "source": [
    "pd.pivot_table(df, index=[\"Manager\",\"Rep\",\"Product\"], values=[\"Price\",\"Quantity\"], aggfunc=[np.mean,np.sum] ,                       fill_value=0, margins=True)"
   ]
  }
 ],
 "metadata": {
  "language_info": {
   "codemirror_mode": {
    "name": "ipython",
    "version": 3
   },
   "file_extension": ".py",
   "mimetype": "text/x-python",
   "name": "python",
   "nbconvert_exporter": "python",
   "pygments_lexer": "ipython3",
   "version": "3.7.7-final"
  },
  "orig_nbformat": 2,
  "kernelspec": {
   "name": "python37764bit1304f9f95d054c62806119c5c6868c9e",
   "display_name": "Python 3.7.7 64-bit"
  }
 },
 "nbformat": 4,
 "nbformat_minor": 2
}