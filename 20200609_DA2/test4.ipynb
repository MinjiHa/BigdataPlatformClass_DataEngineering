{
 "cells": [
  {
   "cell_type": "code",
   "execution_count": 7,
   "metadata": {},
   "outputs": [
    {
     "output_type": "execute_result",
     "data": {
      "text/plain": "    관서명  살인 발생  살인 검거  강도 발생  강도 검거  강간 발생  강간 검거  절도 발생  절도 검거  폭력 발생  폭력 검거  \\\n0   중부서      2      2      3      2    105     65   1395    477   1355   1170   \n1   종로서      3      3      6      5    115     98   1070    413   1278   1070   \n2  남대문서      1      0      6      4     65     46   1153    382    869    794   \n3  서대문서      2      2      5      4    154    124   1812    738   2056   1711   \n4   혜화서      3      2      5      4     96     63   1114    424   1015    861   \n\n     구별  \n0    중구  \n1   종로구  \n2    중구  \n3  서대문구  \n4   종로구  ",
      "text/html": "<div>\n<style scoped>\n    .dataframe tbody tr th:only-of-type {\n        vertical-align: middle;\n    }\n\n    .dataframe tbody tr th {\n        vertical-align: top;\n    }\n\n    .dataframe thead th {\n        text-align: right;\n    }\n</style>\n<table border=\"1\" class=\"dataframe\">\n  <thead>\n    <tr style=\"text-align: right;\">\n      <th></th>\n      <th>관서명</th>\n      <th>살인 발생</th>\n      <th>살인 검거</th>\n      <th>강도 발생</th>\n      <th>강도 검거</th>\n      <th>강간 발생</th>\n      <th>강간 검거</th>\n      <th>절도 발생</th>\n      <th>절도 검거</th>\n      <th>폭력 발생</th>\n      <th>폭력 검거</th>\n      <th>구별</th>\n    </tr>\n  </thead>\n  <tbody>\n    <tr>\n      <th>0</th>\n      <td>중부서</td>\n      <td>2</td>\n      <td>2</td>\n      <td>3</td>\n      <td>2</td>\n      <td>105</td>\n      <td>65</td>\n      <td>1395</td>\n      <td>477</td>\n      <td>1355</td>\n      <td>1170</td>\n      <td>중구</td>\n    </tr>\n    <tr>\n      <th>1</th>\n      <td>종로서</td>\n      <td>3</td>\n      <td>3</td>\n      <td>6</td>\n      <td>5</td>\n      <td>115</td>\n      <td>98</td>\n      <td>1070</td>\n      <td>413</td>\n      <td>1278</td>\n      <td>1070</td>\n      <td>종로구</td>\n    </tr>\n    <tr>\n      <th>2</th>\n      <td>남대문서</td>\n      <td>1</td>\n      <td>0</td>\n      <td>6</td>\n      <td>4</td>\n      <td>65</td>\n      <td>46</td>\n      <td>1153</td>\n      <td>382</td>\n      <td>869</td>\n      <td>794</td>\n      <td>중구</td>\n    </tr>\n    <tr>\n      <th>3</th>\n      <td>서대문서</td>\n      <td>2</td>\n      <td>2</td>\n      <td>5</td>\n      <td>4</td>\n      <td>154</td>\n      <td>124</td>\n      <td>1812</td>\n      <td>738</td>\n      <td>2056</td>\n      <td>1711</td>\n      <td>서대문구</td>\n    </tr>\n    <tr>\n      <th>4</th>\n      <td>혜화서</td>\n      <td>3</td>\n      <td>2</td>\n      <td>5</td>\n      <td>4</td>\n      <td>96</td>\n      <td>63</td>\n      <td>1114</td>\n      <td>424</td>\n      <td>1015</td>\n      <td>861</td>\n      <td>종로구</td>\n    </tr>\n  </tbody>\n</table>\n</div>"
     },
     "metadata": {},
     "execution_count": 7
    }
   ],
   "source": [
    "import numpy as np\n",
    "import pandas as pd\n",
    "\n",
    "crime_anal_raw = pd.read_csv(\"crime_in_Seoul_include_gu_name.csv\", encoding = 'utf-8',index_col=0)\n",
    "crime_anal_raw.head()"
   ]
  },
  {
   "cell_type": "code",
   "execution_count": 8,
   "metadata": {},
   "outputs": [
    {
     "output_type": "execute_result",
     "data": {
      "text/plain": "      강간 검거  강간 발생  강도 검거  강도 발생  살인 검거  살인 발생  절도 검거  절도 발생  폭력 검거  폭력 발생\n구별                                                                        \n강남구     349    449     18     21     10     13   1650   3850   3705   4284\n영등포구    183    295     20     22     12     14    978   2964   2961   3572\n관악구     221    320     14     12      8      9    827   2706   2642   3298\n송파구     178    220     10     13     10     11   1129   3239   2786   3295\n강서구     191    262     13     13      8      7   1260   2096   2718   3207",
      "text/html": "<div>\n<style scoped>\n    .dataframe tbody tr th:only-of-type {\n        vertical-align: middle;\n    }\n\n    .dataframe tbody tr th {\n        vertical-align: top;\n    }\n\n    .dataframe thead th {\n        text-align: right;\n    }\n</style>\n<table border=\"1\" class=\"dataframe\">\n  <thead>\n    <tr style=\"text-align: right;\">\n      <th></th>\n      <th>강간 검거</th>\n      <th>강간 발생</th>\n      <th>강도 검거</th>\n      <th>강도 발생</th>\n      <th>살인 검거</th>\n      <th>살인 발생</th>\n      <th>절도 검거</th>\n      <th>절도 발생</th>\n      <th>폭력 검거</th>\n      <th>폭력 발생</th>\n    </tr>\n    <tr>\n      <th>구별</th>\n      <th></th>\n      <th></th>\n      <th></th>\n      <th></th>\n      <th></th>\n      <th></th>\n      <th></th>\n      <th></th>\n      <th></th>\n      <th></th>\n    </tr>\n  </thead>\n  <tbody>\n    <tr>\n      <th>강남구</th>\n      <td>349</td>\n      <td>449</td>\n      <td>18</td>\n      <td>21</td>\n      <td>10</td>\n      <td>13</td>\n      <td>1650</td>\n      <td>3850</td>\n      <td>3705</td>\n      <td>4284</td>\n    </tr>\n    <tr>\n      <th>영등포구</th>\n      <td>183</td>\n      <td>295</td>\n      <td>20</td>\n      <td>22</td>\n      <td>12</td>\n      <td>14</td>\n      <td>978</td>\n      <td>2964</td>\n      <td>2961</td>\n      <td>3572</td>\n    </tr>\n    <tr>\n      <th>관악구</th>\n      <td>221</td>\n      <td>320</td>\n      <td>14</td>\n      <td>12</td>\n      <td>8</td>\n      <td>9</td>\n      <td>827</td>\n      <td>2706</td>\n      <td>2642</td>\n      <td>3298</td>\n    </tr>\n    <tr>\n      <th>송파구</th>\n      <td>178</td>\n      <td>220</td>\n      <td>10</td>\n      <td>13</td>\n      <td>10</td>\n      <td>11</td>\n      <td>1129</td>\n      <td>3239</td>\n      <td>2786</td>\n      <td>3295</td>\n    </tr>\n    <tr>\n      <th>강서구</th>\n      <td>191</td>\n      <td>262</td>\n      <td>13</td>\n      <td>13</td>\n      <td>8</td>\n      <td>7</td>\n      <td>1260</td>\n      <td>2096</td>\n      <td>2718</td>\n      <td>3207</td>\n    </tr>\n  </tbody>\n</table>\n</div>"
     },
     "metadata": {},
     "execution_count": 8
    }
   ],
   "source": [
    "crime_anal = pd.pivot_table(crime_anal_raw, index='구별', aggfunc= np.sum)\n",
    "crime_anal.sort_values(by='폭력 발생', ascending=False).head(5)"
   ]
  },
  {
   "cell_type": "code",
   "execution_count": 14,
   "metadata": {},
   "outputs": [],
   "source": [
    "crime_anal['강간검거율'] = crime_anal['강간 검거'] / crime_anal['강간 발생'] * 100\n",
    "crime_anal['강도검거율'] = crime_anal['강도 검거'] / crime_anal['강도 발생'] * 100\n",
    "crime_anal['살인검거율'] = crime_anal['살인 검거'] / crime_anal['살인 발생'] * 100\n",
    "crime_anal['절도검거율'] = crime_anal['절도 검거'] / crime_anal['절도 발생'] * 100\n",
    "crime_anal['폭력검거율'] = crime_anal['폭력 검거'] / crime_anal['폭력 발생'] * 100\n",
    "\n",
    "del crime_anal['강간 검거']\n",
    "del crime_anal['강도 검거']\n",
    "del crime_anal['살인 검거']\n",
    "del crime_anal['절도 검거']\n",
    "del crime_anal['폭력 검거']"
   ]
  },
  {
   "cell_type": "code",
   "execution_count": 15,
   "metadata": {},
   "outputs": [
    {
     "output_type": "execute_result",
     "data": {
      "text/plain": "     강간 발생  강도 발생  살인 발생  절도 발생  폭력 발생      강간검거율       강도검거율       살인검거율  \\\n구별                                                                          \n강남구    449     21     13   3850   4284  77.728285   85.714286   76.923077   \n강동구    156      6      4   2366   2712  78.846154  133.333333   75.000000   \n강북구    153     14      7   1434   2649  82.352941   92.857143  114.285714   \n강서구    262     13      7   2096   3207  72.900763  100.000000  114.285714   \n관악구    320     12      9   2706   3298  69.062500  116.666667   88.888889   \n\n         절도검거율      폭력검거율  \n구별                         \n강남구  42.857143  86.484594  \n강동구  33.347422  82.890855  \n강북구  43.096234  88.637222  \n강서구  60.114504  84.752105  \n관악구  30.561715  80.109157  ",
      "text/html": "<div>\n<style scoped>\n    .dataframe tbody tr th:only-of-type {\n        vertical-align: middle;\n    }\n\n    .dataframe tbody tr th {\n        vertical-align: top;\n    }\n\n    .dataframe thead th {\n        text-align: right;\n    }\n</style>\n<table border=\"1\" class=\"dataframe\">\n  <thead>\n    <tr style=\"text-align: right;\">\n      <th></th>\n      <th>강간 발생</th>\n      <th>강도 발생</th>\n      <th>살인 발생</th>\n      <th>절도 발생</th>\n      <th>폭력 발생</th>\n      <th>강간검거율</th>\n      <th>강도검거율</th>\n      <th>살인검거율</th>\n      <th>절도검거율</th>\n      <th>폭력검거율</th>\n    </tr>\n    <tr>\n      <th>구별</th>\n      <th></th>\n      <th></th>\n      <th></th>\n      <th></th>\n      <th></th>\n      <th></th>\n      <th></th>\n      <th></th>\n      <th></th>\n      <th></th>\n    </tr>\n  </thead>\n  <tbody>\n    <tr>\n      <th>강남구</th>\n      <td>449</td>\n      <td>21</td>\n      <td>13</td>\n      <td>3850</td>\n      <td>4284</td>\n      <td>77.728285</td>\n      <td>85.714286</td>\n      <td>76.923077</td>\n      <td>42.857143</td>\n      <td>86.484594</td>\n    </tr>\n    <tr>\n      <th>강동구</th>\n      <td>156</td>\n      <td>6</td>\n      <td>4</td>\n      <td>2366</td>\n      <td>2712</td>\n      <td>78.846154</td>\n      <td>133.333333</td>\n      <td>75.000000</td>\n      <td>33.347422</td>\n      <td>82.890855</td>\n    </tr>\n    <tr>\n      <th>강북구</th>\n      <td>153</td>\n      <td>14</td>\n      <td>7</td>\n      <td>1434</td>\n      <td>2649</td>\n      <td>82.352941</td>\n      <td>92.857143</td>\n      <td>114.285714</td>\n      <td>43.096234</td>\n      <td>88.637222</td>\n    </tr>\n    <tr>\n      <th>강서구</th>\n      <td>262</td>\n      <td>13</td>\n      <td>7</td>\n      <td>2096</td>\n      <td>3207</td>\n      <td>72.900763</td>\n      <td>100.000000</td>\n      <td>114.285714</td>\n      <td>60.114504</td>\n      <td>84.752105</td>\n    </tr>\n    <tr>\n      <th>관악구</th>\n      <td>320</td>\n      <td>12</td>\n      <td>9</td>\n      <td>2706</td>\n      <td>3298</td>\n      <td>69.062500</td>\n      <td>116.666667</td>\n      <td>88.888889</td>\n      <td>30.561715</td>\n      <td>80.109157</td>\n    </tr>\n  </tbody>\n</table>\n</div>"
     },
     "metadata": {},
     "execution_count": 15
    }
   ],
   "source": [
    "crime_anal.head()"
   ]
  },
  {
   "cell_type": "code",
   "execution_count": 16,
   "metadata": {},
   "outputs": [
    {
     "output_type": "execute_result",
     "data": {
      "text/plain": "     강간 발생  강도 발생  살인 발생  절도 발생  폭력 발생      강간검거율       강도검거율       살인검거율  \\\n구별                                                                          \n강남구    449     21     13   3850   4284  77.728285   85.714286   76.923077   \n강동구    156      6      4   2366   2712  78.846154  100.000000   75.000000   \n강북구    153     14      7   1434   2649  82.352941   92.857143  100.000000   \n강서구    262     13      7   2096   3207  72.900763  100.000000  100.000000   \n관악구    320     12      9   2706   3298  69.062500  100.000000   88.888889   \n\n         절도검거율      폭력검거율  \n구별                         \n강남구  42.857143  86.484594  \n강동구  33.347422  82.890855  \n강북구  43.096234  88.637222  \n강서구  60.114504  84.752105  \n관악구  30.561715  80.109157  ",
      "text/html": "<div>\n<style scoped>\n    .dataframe tbody tr th:only-of-type {\n        vertical-align: middle;\n    }\n\n    .dataframe tbody tr th {\n        vertical-align: top;\n    }\n\n    .dataframe thead th {\n        text-align: right;\n    }\n</style>\n<table border=\"1\" class=\"dataframe\">\n  <thead>\n    <tr style=\"text-align: right;\">\n      <th></th>\n      <th>강간 발생</th>\n      <th>강도 발생</th>\n      <th>살인 발생</th>\n      <th>절도 발생</th>\n      <th>폭력 발생</th>\n      <th>강간검거율</th>\n      <th>강도검거율</th>\n      <th>살인검거율</th>\n      <th>절도검거율</th>\n      <th>폭력검거율</th>\n    </tr>\n    <tr>\n      <th>구별</th>\n      <th></th>\n      <th></th>\n      <th></th>\n      <th></th>\n      <th></th>\n      <th></th>\n      <th></th>\n      <th></th>\n      <th></th>\n      <th></th>\n    </tr>\n  </thead>\n  <tbody>\n    <tr>\n      <th>강남구</th>\n      <td>449</td>\n      <td>21</td>\n      <td>13</td>\n      <td>3850</td>\n      <td>4284</td>\n      <td>77.728285</td>\n      <td>85.714286</td>\n      <td>76.923077</td>\n      <td>42.857143</td>\n      <td>86.484594</td>\n    </tr>\n    <tr>\n      <th>강동구</th>\n      <td>156</td>\n      <td>6</td>\n      <td>4</td>\n      <td>2366</td>\n      <td>2712</td>\n      <td>78.846154</td>\n      <td>100.000000</td>\n      <td>75.000000</td>\n      <td>33.347422</td>\n      <td>82.890855</td>\n    </tr>\n    <tr>\n      <th>강북구</th>\n      <td>153</td>\n      <td>14</td>\n      <td>7</td>\n      <td>1434</td>\n      <td>2649</td>\n      <td>82.352941</td>\n      <td>92.857143</td>\n      <td>100.000000</td>\n      <td>43.096234</td>\n      <td>88.637222</td>\n    </tr>\n    <tr>\n      <th>강서구</th>\n      <td>262</td>\n      <td>13</td>\n      <td>7</td>\n      <td>2096</td>\n      <td>3207</td>\n      <td>72.900763</td>\n      <td>100.000000</td>\n      <td>100.000000</td>\n      <td>60.114504</td>\n      <td>84.752105</td>\n    </tr>\n    <tr>\n      <th>관악구</th>\n      <td>320</td>\n      <td>12</td>\n      <td>9</td>\n      <td>2706</td>\n      <td>3298</td>\n      <td>69.062500</td>\n      <td>100.000000</td>\n      <td>88.888889</td>\n      <td>30.561715</td>\n      <td>80.109157</td>\n    </tr>\n  </tbody>\n</table>\n</div>"
     },
     "metadata": {},
     "execution_count": 16
    }
   ],
   "source": [
    "con_list = ['강간검거율','강도검거율','살인검거율','절도검거율','폭력검거율']\n",
    "\n",
    "for column in con_list:\n",
    "     crime_anal.loc[crime_anal[column] > 100, column] = 100\n",
    "\n",
    "# #con_list에 들어있는 항목하나하나 넣어서 검사\n",
    "# #[]내부가 filter의 역할을 하는듯.\n",
    "\n",
    "crime_anal.head()"
   ]
  },
  {
   "cell_type": "code",
   "execution_count": 19,
   "metadata": {},
   "outputs": [],
   "source": [
    "crime_anal.rename(columns= {'강간 발생' : '강간',\n",
    "                            '강도 발생' : '강도',\n",
    "                            '살인 발생' : '살인',\n",
    "                            '절도 발생' : '절도',\n",
    "                            '폭력 발생' : '폭력'}, inplace = True)\n",
    "crime_anal.head()\n",
    "\n",
    "#crime_anal.to_csv('crime_anal.csv', sep=',', encoding = 'utf-8') #저장"
   ]
  }
 ],
 "metadata": {
  "language_info": {
   "codemirror_mode": {
    "name": "ipython",
    "version": 3
   },
   "file_extension": ".py",
   "mimetype": "text/x-python",
   "name": "python",
   "nbconvert_exporter": "python",
   "pygments_lexer": "ipython3",
   "version": "3.7.7-final"
  },
  "orig_nbformat": 2,
  "kernelspec": {
   "name": "python37764bit1304f9f95d054c62806119c5c6868c9e",
   "display_name": "Python 3.7.7 64-bit"
  }
 },
 "nbformat": 4,
 "nbformat_minor": 2
}