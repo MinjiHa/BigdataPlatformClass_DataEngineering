{
 "cells": [
  {
   "cell_type": "code",
   "execution_count": 8,
   "metadata": {},
   "outputs": [
    {
     "output_type": "execute_result",
     "data": {
      "text/plain": "array([[1.        , 0.125     , 1.        ],\n       [0.85555556, 0.1125    , 0.20689655],\n       [0.91111111, 0.        , 0.01149425],\n       [0.        , 0.125     , 0.        ],\n       [0.11111111, 1.        , 0.55172414]])"
     },
     "metadata": {},
     "execution_count": 8
    }
   ],
   "source": [
    "import numpy as np\n",
    "import pandas as pd\n",
    "from sklearn import preprocessing\n",
    "\n",
    "df3 = pd.DataFrame({\n",
    "    'col1':[100,87,92,10,20],\n",
    "    'col2':[30,29,20,30,100],\n",
    "    'col3':[89,20,3,2,50]\n",
    "})\n",
    "\n",
    "cols = ['col1','col2','col3']\n",
    "df4 = df3[cols].values #numpy로 바꿔줌\n",
    "min_max_scaler = preprocessing.MinMaxScaler() #범위가 큰 데이터를 정리\n",
    "x_data = min_max_scaler.fit_transform(df4.astype(float))\n",
    "x_data\n"
   ]
  },
  {
   "cell_type": "code",
   "execution_count": null,
   "metadata": {},
   "outputs": [],
   "source": []
  }
 ],
 "metadata": {
  "language_info": {
   "codemirror_mode": {
    "name": "ipython",
    "version": 3
   },
   "file_extension": ".py",
   "mimetype": "text/x-python",
   "name": "python",
   "nbconvert_exporter": "python",
   "pygments_lexer": "ipython3",
   "version": "3.7.7-final"
  },
  "orig_nbformat": 2,
  "kernelspec": {
   "name": "python37764bit1304f9f95d054c62806119c5c6868c9e",
   "display_name": "Python 3.7.7 64-bit"
  }
 },
 "nbformat": 4,
 "nbformat_minor": 2
}