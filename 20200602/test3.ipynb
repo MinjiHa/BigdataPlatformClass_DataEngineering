{
 "cells": [
  {
   "cell_type": "code",
   "execution_count": 3,
   "metadata": {},
   "outputs": [
    {
     "output_type": "execute_result",
     "data": {
      "text/plain": "               title  rating\n0               언더워터     5.9\n1          프리즌 이스케이프     7.4\n2             위대한 쇼맨     8.9\n3            카페 벨에포크     9.0\n4            미스비헤이비어     8.4\n5                 그집     5.5\n6            초미의 관심사     8.0\n7              더 플랫폼     6.8\n8        패왕별희 디 오리지널     9.3\n9          트롤: 월드 투어     8.5\n10             아홉 스님     6.8\n11            날씨의 아이     6.7\n12  킬러의 보디가드 무삭제 특별판     7.3\n13               톰보이     8.2\n14        조금씩，천천히 안녕     6.2\n15      루팡 3세: 더 퍼스트     8.7\n16       레이니 데이 인 뉴욕     6.2\n17       레미: 집 없는 아이     8.4\n18              나는보리     8.6\n19             싸커 퀸즈     8.0",
      "text/html": "<div>\n<style scoped>\n    .dataframe tbody tr th:only-of-type {\n        vertical-align: middle;\n    }\n\n    .dataframe tbody tr th {\n        vertical-align: top;\n    }\n\n    .dataframe thead th {\n        text-align: right;\n    }\n</style>\n<table border=\"1\" class=\"dataframe\">\n  <thead>\n    <tr style=\"text-align: right;\">\n      <th></th>\n      <th>title</th>\n      <th>rating</th>\n    </tr>\n  </thead>\n  <tbody>\n    <tr>\n      <th>0</th>\n      <td>언더워터</td>\n      <td>5.9</td>\n    </tr>\n    <tr>\n      <th>1</th>\n      <td>프리즌 이스케이프</td>\n      <td>7.4</td>\n    </tr>\n    <tr>\n      <th>2</th>\n      <td>위대한 쇼맨</td>\n      <td>8.9</td>\n    </tr>\n    <tr>\n      <th>3</th>\n      <td>카페 벨에포크</td>\n      <td>9.0</td>\n    </tr>\n    <tr>\n      <th>4</th>\n      <td>미스비헤이비어</td>\n      <td>8.4</td>\n    </tr>\n    <tr>\n      <th>5</th>\n      <td>그집</td>\n      <td>5.5</td>\n    </tr>\n    <tr>\n      <th>6</th>\n      <td>초미의 관심사</td>\n      <td>8.0</td>\n    </tr>\n    <tr>\n      <th>7</th>\n      <td>더 플랫폼</td>\n      <td>6.8</td>\n    </tr>\n    <tr>\n      <th>8</th>\n      <td>패왕별희 디 오리지널</td>\n      <td>9.3</td>\n    </tr>\n    <tr>\n      <th>9</th>\n      <td>트롤: 월드 투어</td>\n      <td>8.5</td>\n    </tr>\n    <tr>\n      <th>10</th>\n      <td>아홉 스님</td>\n      <td>6.8</td>\n    </tr>\n    <tr>\n      <th>11</th>\n      <td>날씨의 아이</td>\n      <td>6.7</td>\n    </tr>\n    <tr>\n      <th>12</th>\n      <td>킬러의 보디가드 무삭제 특별판</td>\n      <td>7.3</td>\n    </tr>\n    <tr>\n      <th>13</th>\n      <td>톰보이</td>\n      <td>8.2</td>\n    </tr>\n    <tr>\n      <th>14</th>\n      <td>조금씩，천천히 안녕</td>\n      <td>6.2</td>\n    </tr>\n    <tr>\n      <th>15</th>\n      <td>루팡 3세: 더 퍼스트</td>\n      <td>8.7</td>\n    </tr>\n    <tr>\n      <th>16</th>\n      <td>레이니 데이 인 뉴욕</td>\n      <td>6.2</td>\n    </tr>\n    <tr>\n      <th>17</th>\n      <td>레미: 집 없는 아이</td>\n      <td>8.4</td>\n    </tr>\n    <tr>\n      <th>18</th>\n      <td>나는보리</td>\n      <td>8.6</td>\n    </tr>\n    <tr>\n      <th>19</th>\n      <td>싸커 퀸즈</td>\n      <td>8.0</td>\n    </tr>\n  </tbody>\n</table>\n</div>"
     },
     "metadata": {},
     "execution_count": 3
    }
   ],
   "source": [
    "import os\n",
    "import cx_Oracle\n",
    "import time\n",
    "import requests\n",
    "import numpy as np \n",
    "import pandas as pd\n",
    "from bs4 import BeautifulSoup\n",
    "URL = \"http://ticket2.movie.daum.net/Movie/MovieRankList.aspx\"\n",
    "res = requests.get(URL)\n",
    "soup = BeautifulSoup(res.content, 'lxml')\n",
    "box = soup.find_all('div', class_=\"desc_boxthumb\")\n",
    "# count = 0\n",
    "data = []\n",
    "for movie in box:  \n",
    "    title, ranking = movie.find('strong', class_=\"tit_join\"), movie.find('em', class_=\"emph_grade\")\n",
    "    movie, grade = title.get_text().strip(), ranking.get_text().strip()\n",
    "    # print(movie, grade)\n",
    "    list2 = [movie, grade] #movie, grade를 list(이름,평점)로 가진 형태로 만듦\n",
    "    data.append([movie,grade]) #data에 list2의 모든데이터를 가지고 있는 리스 형태로 변환\n",
    "\n",
    "df = pd.DataFrame(data, columns = ['title','rating'])\n",
    "df['rating'] = df['rating'].astype(float)\n",
    "df"
   ]
  },
  {
   "cell_type": "code",
   "execution_count": 5,
   "metadata": {},
   "outputs": [
    {
     "output_type": "execute_result",
     "data": {
      "text/plain": "title      object\nrating    float64\ndtype: object"
     },
     "metadata": {},
     "execution_count": 5
    }
   ],
   "source": [
    "df.dtypes"
   ]
  },
  {
   "cell_type": "code",
   "execution_count": 6,
   "metadata": {},
   "outputs": [
    {
     "output_type": "execute_result",
     "data": {
      "text/plain": "7.639999999999999"
     },
     "metadata": {},
     "execution_count": 6
    }
   ],
   "source": [
    "df['rating'].mean()"
   ]
  },
  {
   "cell_type": "code",
   "execution_count": null,
   "metadata": {},
   "outputs": [],
   "source": []
  }
 ],
 "metadata": {
  "language_info": {
   "codemirror_mode": {
    "name": "ipython",
    "version": 3
   },
   "file_extension": ".py",
   "mimetype": "text/x-python",
   "name": "python",
   "nbconvert_exporter": "python",
   "pygments_lexer": "ipython3",
   "version": "3.7.7-final"
  },
  "orig_nbformat": 2,
  "kernelspec": {
   "name": "python37764bit1304f9f95d054c62806119c5c6868c9e",
   "display_name": "Python 3.7.7 64-bit"
  }
 },
 "nbformat": 4,
 "nbformat_minor": 2
}