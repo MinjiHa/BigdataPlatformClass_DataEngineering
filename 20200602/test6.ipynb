{
 "cells": [
  {
   "cell_type": "code",
   "execution_count": 6,
   "metadata": {},
   "outputs": [
    {
     "output_type": "execute_result",
     "data": {
      "text/plain": "       col1      col3\na  0.356982 -1.625629\nb -1.217424 -0.341420\nc  1.132267 -1.633345\nd  1.004004 -2.526894\ne -0.062400 -0.420679",
      "text/html": "<div>\n<style scoped>\n    .dataframe tbody tr th:only-of-type {\n        vertical-align: middle;\n    }\n\n    .dataframe tbody tr th {\n        vertical-align: top;\n    }\n\n    .dataframe thead th {\n        text-align: right;\n    }\n</style>\n<table border=\"1\" class=\"dataframe\">\n  <thead>\n    <tr style=\"text-align: right;\">\n      <th></th>\n      <th>col1</th>\n      <th>col3</th>\n    </tr>\n  </thead>\n  <tbody>\n    <tr>\n      <th>a</th>\n      <td>0.356982</td>\n      <td>-1.625629</td>\n    </tr>\n    <tr>\n      <th>b</th>\n      <td>-1.217424</td>\n      <td>-0.341420</td>\n    </tr>\n    <tr>\n      <th>c</th>\n      <td>1.132267</td>\n      <td>-1.633345</td>\n    </tr>\n    <tr>\n      <th>d</th>\n      <td>1.004004</td>\n      <td>-2.526894</td>\n    </tr>\n    <tr>\n      <th>e</th>\n      <td>-0.062400</td>\n      <td>-0.420679</td>\n    </tr>\n  </tbody>\n</table>\n</div>"
     },
     "metadata": {},
     "execution_count": 6
    }
   ],
   "source": [
    "import os\n",
    "import cx_Oracle\n",
    "import time\n",
    "import requests\n",
    "import numpy as np \n",
    "import pandas as pd\n",
    "\n",
    "df = pd.DataFrame(np.random.randn(6,4), index = ['a','b','c','d','e','f'], columns = ['col1','col2','col3','col4'])\n",
    "df\n",
    "df.loc[['a','e'],['col1','col3']]\n",
    "\n"
   ]
  },
  {
   "cell_type": "code",
   "execution_count": 9,
   "metadata": {},
   "outputs": [
    {
     "output_type": "execute_result",
     "data": {
      "text/plain": "       col1      col3\na  0.356982 -1.625629\nb -1.217424 -0.341420\nc  1.132267 -1.633345\nd  1.004004 -2.526894\ne -0.062400 -0.420679",
      "text/html": "<div>\n<style scoped>\n    .dataframe tbody tr th:only-of-type {\n        vertical-align: middle;\n    }\n\n    .dataframe tbody tr th {\n        vertical-align: top;\n    }\n\n    .dataframe thead th {\n        text-align: right;\n    }\n</style>\n<table border=\"1\" class=\"dataframe\">\n  <thead>\n    <tr style=\"text-align: right;\">\n      <th></th>\n      <th>col1</th>\n      <th>col3</th>\n    </tr>\n  </thead>\n  <tbody>\n    <tr>\n      <th>a</th>\n      <td>0.356982</td>\n      <td>-1.625629</td>\n    </tr>\n    <tr>\n      <th>b</th>\n      <td>-1.217424</td>\n      <td>-0.341420</td>\n    </tr>\n    <tr>\n      <th>c</th>\n      <td>1.132267</td>\n      <td>-1.633345</td>\n    </tr>\n    <tr>\n      <th>d</th>\n      <td>1.004004</td>\n      <td>-2.526894</td>\n    </tr>\n    <tr>\n      <th>e</th>\n      <td>-0.062400</td>\n      <td>-0.420679</td>\n    </tr>\n  </tbody>\n</table>\n</div>"
     },
     "metadata": {},
     "execution_count": 9
    }
   ],
   "source": [
    "df.loc['a':'e',['col1','col3']]"
   ]
  },
  {
   "cell_type": "code",
   "execution_count": 10,
   "metadata": {},
   "outputs": [
    {
     "output_type": "execute_result",
     "data": {
      "text/plain": "       col2      col3      col4\na -0.621788 -1.625629  0.669162\nb -0.131241 -0.341420  1.147826\nc  0.968376 -1.633345  1.664703\nd  0.404448 -2.526894 -0.228151\ne -0.619023 -0.420679 -2.012408",
      "text/html": "<div>\n<style scoped>\n    .dataframe tbody tr th:only-of-type {\n        vertical-align: middle;\n    }\n\n    .dataframe tbody tr th {\n        vertical-align: top;\n    }\n\n    .dataframe thead th {\n        text-align: right;\n    }\n</style>\n<table border=\"1\" class=\"dataframe\">\n  <thead>\n    <tr style=\"text-align: right;\">\n      <th></th>\n      <th>col2</th>\n      <th>col3</th>\n      <th>col4</th>\n    </tr>\n  </thead>\n  <tbody>\n    <tr>\n      <th>a</th>\n      <td>-0.621788</td>\n      <td>-1.625629</td>\n      <td>0.669162</td>\n    </tr>\n    <tr>\n      <th>b</th>\n      <td>-0.131241</td>\n      <td>-0.341420</td>\n      <td>1.147826</td>\n    </tr>\n    <tr>\n      <th>c</th>\n      <td>0.968376</td>\n      <td>-1.633345</td>\n      <td>1.664703</td>\n    </tr>\n    <tr>\n      <th>d</th>\n      <td>0.404448</td>\n      <td>-2.526894</td>\n      <td>-0.228151</td>\n    </tr>\n    <tr>\n      <th>e</th>\n      <td>-0.619023</td>\n      <td>-0.420679</td>\n      <td>-2.012408</td>\n    </tr>\n  </tbody>\n</table>\n</div>"
     },
     "metadata": {},
     "execution_count": 10
    }
   ],
   "source": [
    "df.loc['a':'e','col2':'col4']"
   ]
  },
  {
   "cell_type": "code",
   "execution_count": 11,
   "metadata": {},
   "outputs": [
    {
     "output_type": "execute_result",
     "data": {
      "text/plain": "col1     True\ncol2    False\ncol3    False\ncol4     True\nName: a, dtype: bool"
     },
     "metadata": {},
     "execution_count": 11
    }
   ],
   "source": [
    "df.loc['a']>0"
   ]
  },
  {
   "cell_type": "code",
   "execution_count": 12,
   "metadata": {},
   "outputs": [
    {
     "output_type": "execute_result",
     "data": {
      "text/plain": "       col1      col2\na  0.356982 -0.621788\nb -1.217424 -0.131241",
      "text/html": "<div>\n<style scoped>\n    .dataframe tbody tr th:only-of-type {\n        vertical-align: middle;\n    }\n\n    .dataframe tbody tr th {\n        vertical-align: top;\n    }\n\n    .dataframe thead th {\n        text-align: right;\n    }\n</style>\n<table border=\"1\" class=\"dataframe\">\n  <thead>\n    <tr style=\"text-align: right;\">\n      <th></th>\n      <th>col1</th>\n      <th>col2</th>\n    </tr>\n  </thead>\n  <tbody>\n    <tr>\n      <th>a</th>\n      <td>0.356982</td>\n      <td>-0.621788</td>\n    </tr>\n    <tr>\n      <th>b</th>\n      <td>-1.217424</td>\n      <td>-0.131241</td>\n    </tr>\n  </tbody>\n</table>\n</div>"
     },
     "metadata": {},
     "execution_count": 12
    }
   ],
   "source": [
    "df.iloc[0:2,0:2]"
   ]
  },
  {
   "cell_type": "code",
   "execution_count": 13,
   "metadata": {},
   "outputs": [
    {
     "output_type": "execute_result",
     "data": {
      "text/plain": "       col2\nb -0.131241\nc  0.968376",
      "text/html": "<div>\n<style scoped>\n    .dataframe tbody tr th:only-of-type {\n        vertical-align: middle;\n    }\n\n    .dataframe tbody tr th {\n        vertical-align: top;\n    }\n\n    .dataframe thead th {\n        text-align: right;\n    }\n</style>\n<table border=\"1\" class=\"dataframe\">\n  <thead>\n    <tr style=\"text-align: right;\">\n      <th></th>\n      <th>col2</th>\n    </tr>\n  </thead>\n  <tbody>\n    <tr>\n      <th>b</th>\n      <td>-0.131241</td>\n    </tr>\n    <tr>\n      <th>c</th>\n      <td>0.968376</td>\n    </tr>\n  </tbody>\n</table>\n</div>"
     },
     "metadata": {},
     "execution_count": 13
    }
   ],
   "source": [
    "df.iloc[1:3,1:2]"
   ]
  },
  {
   "cell_type": "code",
   "execution_count": 14,
   "metadata": {},
   "outputs": [
    {
     "output_type": "execute_result",
     "data": {
      "text/plain": "a    0.356982\nb   -1.217424\nName: col1, dtype: float64"
     },
     "metadata": {},
     "execution_count": 14
    }
   ],
   "source": [
    "df['col1'][:2]"
   ]
  }
 ],
 "metadata": {
  "language_info": {
   "codemirror_mode": {
    "name": "ipython",
    "version": 3
   },
   "file_extension": ".py",
   "mimetype": "text/x-python",
   "name": "python",
   "nbconvert_exporter": "python",
   "pygments_lexer": "ipython3",
   "version": "3.7.7-final"
  },
  "orig_nbformat": 2,
  "kernelspec": {
   "name": "python37764bit1304f9f95d054c62806119c5c6868c9e",
   "display_name": "Python 3.7.7 64-bit"
  }
 },
 "nbformat": 4,
 "nbformat_minor": 2
}