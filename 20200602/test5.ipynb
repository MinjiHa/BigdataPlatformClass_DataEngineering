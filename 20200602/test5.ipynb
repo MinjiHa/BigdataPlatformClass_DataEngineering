{
 "cells": [
  {
   "cell_type": "code",
   "execution_count": 1,
   "metadata": {},
   "outputs": [
    {
     "output_type": "execute_result",
     "data": {
      "text/plain": "       col1      col2      col3\n0  1.215519 -0.288546  0.144763\n1  0.022531 -0.399374  2.166362\n2 -0.288615 -1.019099  0.675051\n3 -1.900320  0.246929  0.160316\n4 -2.073938 -1.734509  0.403992\n5 -0.032464 -0.078702 -0.006338",
      "text/html": "<div>\n<style scoped>\n    .dataframe tbody tr th:only-of-type {\n        vertical-align: middle;\n    }\n\n    .dataframe tbody tr th {\n        vertical-align: top;\n    }\n\n    .dataframe thead th {\n        text-align: right;\n    }\n</style>\n<table border=\"1\" class=\"dataframe\">\n  <thead>\n    <tr style=\"text-align: right;\">\n      <th></th>\n      <th>col1</th>\n      <th>col2</th>\n      <th>col3</th>\n    </tr>\n  </thead>\n  <tbody>\n    <tr>\n      <th>0</th>\n      <td>1.215519</td>\n      <td>-0.288546</td>\n      <td>0.144763</td>\n    </tr>\n    <tr>\n      <th>1</th>\n      <td>0.022531</td>\n      <td>-0.399374</td>\n      <td>2.166362</td>\n    </tr>\n    <tr>\n      <th>2</th>\n      <td>-0.288615</td>\n      <td>-1.019099</td>\n      <td>0.675051</td>\n    </tr>\n    <tr>\n      <th>3</th>\n      <td>-1.900320</td>\n      <td>0.246929</td>\n      <td>0.160316</td>\n    </tr>\n    <tr>\n      <th>4</th>\n      <td>-2.073938</td>\n      <td>-1.734509</td>\n      <td>0.403992</td>\n    </tr>\n    <tr>\n      <th>5</th>\n      <td>-0.032464</td>\n      <td>-0.078702</td>\n      <td>-0.006338</td>\n    </tr>\n  </tbody>\n</table>\n</div>"
     },
     "metadata": {},
     "execution_count": 1
    }
   ],
   "source": [
    "import os\n",
    "import cx_Oracle\n",
    "import time\n",
    "import requests\n",
    "import numpy as np \n",
    "import pandas as pd\n",
    "\n",
    "df3 = pd.DataFrame(np.random.randn(6,3), columns = ['col1','col2','col3'])\n",
    "df3"
   ]
  },
  {
   "cell_type": "code",
   "execution_count": 4,
   "metadata": {},
   "outputs": [
    {
     "output_type": "execute_result",
     "data": {
      "text/plain": "          one       two      col3\n100  1.215519 -0.288546  0.144763\n200  0.022531 -0.399374  2.166362\n2   -0.288615 -1.019099  0.675051\n3   -1.900320  0.246929  0.160316\n4   -2.073938 -1.734509  0.403992\n5   -0.032464 -0.078702 -0.006338",
      "text/html": "<div>\n<style scoped>\n    .dataframe tbody tr th:only-of-type {\n        vertical-align: middle;\n    }\n\n    .dataframe tbody tr th {\n        vertical-align: top;\n    }\n\n    .dataframe thead th {\n        text-align: right;\n    }\n</style>\n<table border=\"1\" class=\"dataframe\">\n  <thead>\n    <tr style=\"text-align: right;\">\n      <th></th>\n      <th>one</th>\n      <th>two</th>\n      <th>col3</th>\n    </tr>\n  </thead>\n  <tbody>\n    <tr>\n      <th>100</th>\n      <td>1.215519</td>\n      <td>-0.288546</td>\n      <td>0.144763</td>\n    </tr>\n    <tr>\n      <th>200</th>\n      <td>0.022531</td>\n      <td>-0.399374</td>\n      <td>2.166362</td>\n    </tr>\n    <tr>\n      <th>2</th>\n      <td>-0.288615</td>\n      <td>-1.019099</td>\n      <td>0.675051</td>\n    </tr>\n    <tr>\n      <th>3</th>\n      <td>-1.900320</td>\n      <td>0.246929</td>\n      <td>0.160316</td>\n    </tr>\n    <tr>\n      <th>4</th>\n      <td>-2.073938</td>\n      <td>-1.734509</td>\n      <td>0.403992</td>\n    </tr>\n    <tr>\n      <th>5</th>\n      <td>-0.032464</td>\n      <td>-0.078702</td>\n      <td>-0.006338</td>\n    </tr>\n  </tbody>\n</table>\n</div>"
     },
     "metadata": {},
     "execution_count": 4
    }
   ],
   "source": [
    "df4 = df3.rename(index = {0:100,1:200}, columns = {'col1':'one','col2':'two'})\n",
    "df4"
   ]
  }
 ],
 "metadata": {
  "language_info": {
   "codemirror_mode": {
    "name": "ipython",
    "version": 3
   },
   "file_extension": ".py",
   "mimetype": "text/x-python",
   "name": "python",
   "nbconvert_exporter": "python",
   "pygments_lexer": "ipython3",
   "version": "3.7.7-final"
  },
  "orig_nbformat": 2,
  "kernelspec": {
   "name": "python37764bit1304f9f95d054c62806119c5c6868c9e",
   "display_name": "Python 3.7.7 64-bit"
  }
 },
 "nbformat": 4,
 "nbformat_minor": 2
}