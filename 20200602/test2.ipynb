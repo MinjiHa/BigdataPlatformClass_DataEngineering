{
 "cells": [
  {
   "cell_type": "code",
   "execution_count": 6,
   "metadata": {},
   "outputs": [
    {
     "output_type": "execute_result",
     "data": {
      "text/plain": "  name  age  salary\n0  강감찬   20    2000\n1  이순신   30    3000\n2  홍길동   40    4000",
      "text/html": "<div>\n<style scoped>\n    .dataframe tbody tr th:only-of-type {\n        vertical-align: middle;\n    }\n\n    .dataframe tbody tr th {\n        vertical-align: top;\n    }\n\n    .dataframe thead th {\n        text-align: right;\n    }\n</style>\n<table border=\"1\" class=\"dataframe\">\n  <thead>\n    <tr style=\"text-align: right;\">\n      <th></th>\n      <th>name</th>\n      <th>age</th>\n      <th>salary</th>\n    </tr>\n  </thead>\n  <tbody>\n    <tr>\n      <th>0</th>\n      <td>강감찬</td>\n      <td>20</td>\n      <td>2000</td>\n    </tr>\n    <tr>\n      <th>1</th>\n      <td>이순신</td>\n      <td>30</td>\n      <td>3000</td>\n    </tr>\n    <tr>\n      <th>2</th>\n      <td>홍길동</td>\n      <td>40</td>\n      <td>4000</td>\n    </tr>\n  </tbody>\n</table>\n</div>"
     },
     "metadata": {},
     "execution_count": 6
    }
   ],
   "source": [
    "import numpy as np\n",
    "import pandas as pd\n",
    "\n",
    "data = {'name': pd.Series(['강감찬','이순신','홍길동','이슬기','권보라','한정아','조수영','김민재']),\n",
    "        'age' : pd.Series([20,30,40,50,60,70,80,90]),\n",
    "        'salary' : pd.Series([2000,3000,4000,400,500,300,200,300])}\n",
    "\n",
    "df = pd.DataFrame(data)\n",
    "df\n"
   ]
  },
  {
   "cell_type": "code",
   "execution_count": 8,
   "metadata": {},
   "outputs": [
    {
     "output_type": "execute_result",
     "data": {
      "text/plain": "(3, 3)"
     },
     "metadata": {},
     "execution_count": 8
    }
   ],
   "source": [
    "df.shape #df.ndim"
   ]
  },
  {
   "cell_type": "code",
   "execution_count": 18,
   "metadata": {},
   "outputs": [
    {
     "output_type": "execute_result",
     "data": {
      "text/plain": "        age  salary\ncount   3.0     3.0\nmean   30.0  3000.0\nstd    10.0  1000.0\nmin    20.0  2000.0\n25%    25.0  2500.0\n50%    30.0  3000.0\n75%    35.0  3500.0\nmax    40.0  4000.0",
      "text/html": "<div>\n<style scoped>\n    .dataframe tbody tr th:only-of-type {\n        vertical-align: middle;\n    }\n\n    .dataframe tbody tr th {\n        vertical-align: top;\n    }\n\n    .dataframe thead th {\n        text-align: right;\n    }\n</style>\n<table border=\"1\" class=\"dataframe\">\n  <thead>\n    <tr style=\"text-align: right;\">\n      <th></th>\n      <th>age</th>\n      <th>salary</th>\n    </tr>\n  </thead>\n  <tbody>\n    <tr>\n      <th>count</th>\n      <td>3.0</td>\n      <td>3.0</td>\n    </tr>\n    <tr>\n      <th>mean</th>\n      <td>30.0</td>\n      <td>3000.0</td>\n    </tr>\n    <tr>\n      <th>std</th>\n      <td>10.0</td>\n      <td>1000.0</td>\n    </tr>\n    <tr>\n      <th>min</th>\n      <td>20.0</td>\n      <td>2000.0</td>\n    </tr>\n    <tr>\n      <th>25%</th>\n      <td>25.0</td>\n      <td>2500.0</td>\n    </tr>\n    <tr>\n      <th>50%</th>\n      <td>30.0</td>\n      <td>3000.0</td>\n    </tr>\n    <tr>\n      <th>75%</th>\n      <td>35.0</td>\n      <td>3500.0</td>\n    </tr>\n    <tr>\n      <th>max</th>\n      <td>40.0</td>\n      <td>4000.0</td>\n    </tr>\n  </tbody>\n</table>\n</div>"
     },
     "metadata": {},
     "execution_count": 18
    }
   ],
   "source": [
    "df.sum(1)\n",
    "df.mean()\n",
    "df.std()\n",
    "df.count()\n",
    "df.median()\n",
    "df.min()\n",
    "df.max()\n",
    "df.describe()"
   ]
  }
 ],
 "metadata": {
  "language_info": {
   "codemirror_mode": {
    "name": "ipython",
    "version": 3
   },
   "file_extension": ".py",
   "mimetype": "text/x-python",
   "name": "python",
   "nbconvert_exporter": "python",
   "pygments_lexer": "ipython3",
   "version": "3.7.7-final"
  },
  "orig_nbformat": 2,
  "kernelspec": {
   "name": "python37764bit1304f9f95d054c62806119c5c6868c9e",
   "display_name": "Python 3.7.7 64-bit"
  }
 },
 "nbformat": 4,
 "nbformat_minor": 2
}